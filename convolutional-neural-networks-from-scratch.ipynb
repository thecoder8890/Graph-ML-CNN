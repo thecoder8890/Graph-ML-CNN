{
 "cells": [
  {
   "cell_type": "markdown",
   "id": "3dd1b503",
   "metadata": {
    "papermill": {
     "duration": 0.005089,
     "end_time": "2025-08-28T20:17:33.581377",
     "exception": false,
     "start_time": "2025-08-28T20:17:33.576288",
     "status": "completed"
    },
    "tags": []
   },
   "source": [
    "# Building Convolutional Neural Networks from Scratch\n",
    "## A Deep Dive into Pure Python and NumPy Implementation\n",
    "\n",
    "Welcome to this comprehensive exploration of Convolutional Neural Networks! In this notebook, we'll construct a complete CNN architecture using only fundamental Python libraries - primarily NumPy - to classify handwritten digits from the MNIST dataset. This hands-on approach will provide deep insights into the mathematical foundations that power modern computer vision systems."
   ]
  },
  {
   "cell_type": "markdown",
   "id": "05f69195",
   "metadata": {
    "papermill": {
     "duration": 0.003692,
     "end_time": "2025-08-28T20:17:33.589112",
     "exception": false,
     "start_time": "2025-08-28T20:17:33.585420",
     "status": "completed"
    },
    "tags": []
   },
   "source": [
    "## Understanding the CNN Architecture Revolution\n",
    "\n",
    "Convolutional Neural Networks represent a breakthrough in computer vision, fundamentally changing how machines interpret visual information. Unlike traditional fully-connected networks that treat images as flat vectors, CNNs preserve the spatial structure of visual data through specialized operations that mirror the human visual cortex.\n",
    "\n",
    "The genius of CNNs lies in their ability to learn hierarchical feature representations - starting with simple edge detectors in early layers and progressively building up to complex pattern recognizers in deeper layers. This biological inspiration enables remarkably efficient learning with significantly fewer parameters than conventional approaches."
   ]
  },
  {
   "cell_type": "markdown",
   "id": "210d8cc0",
   "metadata": {
    "papermill": {
     "duration": 0.003588,
     "end_time": "2025-08-28T20:17:33.596592",
     "exception": false,
     "start_time": "2025-08-28T20:17:33.593004",
     "status": "completed"
    },
    "tags": []
   },
   "source": [
    "<img src = 'https://saturncloud.io/images/blog/a-cnn-sequence-to-classify-handwritten-digits.webp'>"
   ]
  },
  {
   "cell_type": "markdown",
   "id": "05f42e8b",
   "metadata": {
    "papermill": {
     "duration": 0.003694,
     "end_time": "2025-08-28T20:17:33.604382",
     "exception": false,
     "start_time": "2025-08-28T20:17:33.600688",
     "status": "completed"
    },
    "tags": []
   },
   "source": [
    "### Essential Building Blocks of CNNs:\n",
    "\n",
    "+ **🔍 Convolutional Layers - The Feature Detectors**:\n",
    "Think of these as specialized scanners that slide small detection windows (kernels) across your image. Each kernel learns to identify specific patterns - horizontal lines, vertical edges, curves, or more complex textures. The magic happens through the convolution operation, which computes how well each patch of the image matches the learned pattern.\n",
    "\n",
    "+ **📉 Pooling Layers - The Dimension Reducers**:\n",
    "These layers act as intelligent summarizers, condensing feature maps while preserving the most important information. Max pooling, for instance, keeps only the strongest activations in each region, making the network more robust to small translations and reducing computational overhead.\n",
    "\n",
    "+ **🔗 Fully Connected Layers - The Decision Makers**:\n",
    "After features are extracted and refined, these traditional neural network layers combine all learned features to make final predictions. They transform the spatial feature representations into class probabilities.\n",
    "\n",
    "+ **🎯 Automatic Feature Learning - The Game Changer**:\n",
    "Perhaps most remarkably, CNNs discover optimal features automatically through backpropagation. No hand-crafted feature engineering required - the network learns what matters for your specific task!"
   ]
  },
  {
   "cell_type": "code",
   "execution_count": 1,
   "id": "c3ab1d06",
   "metadata": {
    "_cell_guid": "b1076dfc-b9ad-4769-8c92-a6c4dae69d19",
    "_uuid": "8f2839f25d086af736a60e9eeb907d3b93b6e0e5",
    "execution": {
     "iopub.execute_input": "2025-08-28T20:17:33.613041Z",
     "iopub.status.busy": "2025-08-28T20:17:33.612756Z",
     "iopub.status.idle": "2025-08-28T20:17:37.011391Z",
     "shell.execute_reply": "2025-08-28T20:17:37.010567Z"
    },
    "papermill": {
     "duration": 3.404753,
     "end_time": "2025-08-28T20:17:37.012927",
     "exception": false,
     "start_time": "2025-08-28T20:17:33.608174",
     "status": "completed"
    },
    "tags": []
   },
   "outputs": [],
   "source": [
    "# Essential imports for our CNN implementation\n",
    "import pandas as pd\n",
    "import numpy as np\n",
    "import time\n",
    "import matplotlib.pyplot as plt\n",
    "import matplotlib.animation as animation\n",
    "from matplotlib.patches import Rectangle\n",
    "from sklearn.metrics import confusion_matrix, classification_report, ConfusionMatrixDisplay\n",
    "from IPython.display import HTML, display\n",
    "import plotly.graph_objects as go\n",
    "import plotly.express as px\n",
    "from plotly.subplots import make_subplots\n",
    "\n",
    "# Configure plotting\n",
    "plt.style.use('default')\n",
    "%matplotlib inline"
   ]
  },
  {
   "cell_type": "code",
   "execution_count": 2,
   "id": "8ce7a444",
   "metadata": {
    "execution": {
     "iopub.execute_input": "2025-08-28T20:17:37.023264Z",
     "iopub.status.busy": "2025-08-28T20:17:37.022634Z",
     "iopub.status.idle": "2025-08-28T20:17:39.730183Z",
     "shell.execute_reply": "2025-08-28T20:17:39.729409Z"
    },
    "papermill": {
     "duration": 2.714387,
     "end_time": "2025-08-28T20:17:39.731558",
     "exception": false,
     "start_time": "2025-08-28T20:17:37.017171",
     "status": "completed"
    },
    "tags": []
   },
   "outputs": [
    {
     "data": {
      "text/html": [
       "<div>\n",
       "<style scoped>\n",
       "    .dataframe tbody tr th:only-of-type {\n",
       "        vertical-align: middle;\n",
       "    }\n",
       "\n",
       "    .dataframe tbody tr th {\n",
       "        vertical-align: top;\n",
       "    }\n",
       "\n",
       "    .dataframe thead th {\n",
       "        text-align: right;\n",
       "    }\n",
       "</style>\n",
       "<table border=\"1\" class=\"dataframe\">\n",
       "  <thead>\n",
       "    <tr style=\"text-align: right;\">\n",
       "      <th></th>\n",
       "      <th>label</th>\n",
       "      <th>pixel0</th>\n",
       "      <th>pixel1</th>\n",
       "      <th>pixel2</th>\n",
       "      <th>pixel3</th>\n",
       "      <th>pixel4</th>\n",
       "      <th>pixel5</th>\n",
       "      <th>pixel6</th>\n",
       "      <th>pixel7</th>\n",
       "      <th>pixel8</th>\n",
       "      <th>...</th>\n",
       "      <th>pixel774</th>\n",
       "      <th>pixel775</th>\n",
       "      <th>pixel776</th>\n",
       "      <th>pixel777</th>\n",
       "      <th>pixel778</th>\n",
       "      <th>pixel779</th>\n",
       "      <th>pixel780</th>\n",
       "      <th>pixel781</th>\n",
       "      <th>pixel782</th>\n",
       "      <th>pixel783</th>\n",
       "    </tr>\n",
       "  </thead>\n",
       "  <tbody>\n",
       "    <tr>\n",
       "      <th>0</th>\n",
       "      <td>1</td>\n",
       "      <td>0</td>\n",
       "      <td>0</td>\n",
       "      <td>0</td>\n",
       "      <td>0</td>\n",
       "      <td>0</td>\n",
       "      <td>0</td>\n",
       "      <td>0</td>\n",
       "      <td>0</td>\n",
       "      <td>0</td>\n",
       "      <td>...</td>\n",
       "      <td>0</td>\n",
       "      <td>0</td>\n",
       "      <td>0</td>\n",
       "      <td>0</td>\n",
       "      <td>0</td>\n",
       "      <td>0</td>\n",
       "      <td>0</td>\n",
       "      <td>0</td>\n",
       "      <td>0</td>\n",
       "      <td>0</td>\n",
       "    </tr>\n",
       "    <tr>\n",
       "      <th>1</th>\n",
       "      <td>0</td>\n",
       "      <td>0</td>\n",
       "      <td>0</td>\n",
       "      <td>0</td>\n",
       "      <td>0</td>\n",
       "      <td>0</td>\n",
       "      <td>0</td>\n",
       "      <td>0</td>\n",
       "      <td>0</td>\n",
       "      <td>0</td>\n",
       "      <td>...</td>\n",
       "      <td>0</td>\n",
       "      <td>0</td>\n",
       "      <td>0</td>\n",
       "      <td>0</td>\n",
       "      <td>0</td>\n",
       "      <td>0</td>\n",
       "      <td>0</td>\n",
       "      <td>0</td>\n",
       "      <td>0</td>\n",
       "      <td>0</td>\n",
       "    </tr>\n",
       "    <tr>\n",
       "      <th>2</th>\n",
       "      <td>1</td>\n",
       "      <td>0</td>\n",
       "      <td>0</td>\n",
       "      <td>0</td>\n",
       "      <td>0</td>\n",
       "      <td>0</td>\n",
       "      <td>0</td>\n",
       "      <td>0</td>\n",
       "      <td>0</td>\n",
       "      <td>0</td>\n",
       "      <td>...</td>\n",
       "      <td>0</td>\n",
       "      <td>0</td>\n",
       "      <td>0</td>\n",
       "      <td>0</td>\n",
       "      <td>0</td>\n",
       "      <td>0</td>\n",
       "      <td>0</td>\n",
       "      <td>0</td>\n",
       "      <td>0</td>\n",
       "      <td>0</td>\n",
       "    </tr>\n",
       "    <tr>\n",
       "      <th>3</th>\n",
       "      <td>4</td>\n",
       "      <td>0</td>\n",
       "      <td>0</td>\n",
       "      <td>0</td>\n",
       "      <td>0</td>\n",
       "      <td>0</td>\n",
       "      <td>0</td>\n",
       "      <td>0</td>\n",
       "      <td>0</td>\n",
       "      <td>0</td>\n",
       "      <td>...</td>\n",
       "      <td>0</td>\n",
       "      <td>0</td>\n",
       "      <td>0</td>\n",
       "      <td>0</td>\n",
       "      <td>0</td>\n",
       "      <td>0</td>\n",
       "      <td>0</td>\n",
       "      <td>0</td>\n",
       "      <td>0</td>\n",
       "      <td>0</td>\n",
       "    </tr>\n",
       "    <tr>\n",
       "      <th>4</th>\n",
       "      <td>0</td>\n",
       "      <td>0</td>\n",
       "      <td>0</td>\n",
       "      <td>0</td>\n",
       "      <td>0</td>\n",
       "      <td>0</td>\n",
       "      <td>0</td>\n",
       "      <td>0</td>\n",
       "      <td>0</td>\n",
       "      <td>0</td>\n",
       "      <td>...</td>\n",
       "      <td>0</td>\n",
       "      <td>0</td>\n",
       "      <td>0</td>\n",
       "      <td>0</td>\n",
       "      <td>0</td>\n",
       "      <td>0</td>\n",
       "      <td>0</td>\n",
       "      <td>0</td>\n",
       "      <td>0</td>\n",
       "      <td>0</td>\n",
       "    </tr>\n",
       "  </tbody>\n",
       "</table>\n",
       "<p>5 rows × 785 columns</p>\n",
       "</div>"
      ],
      "text/plain": [
       "   label  pixel0  pixel1  pixel2  pixel3  pixel4  pixel5  pixel6  pixel7  \\\n",
       "0      1       0       0       0       0       0       0       0       0   \n",
       "1      0       0       0       0       0       0       0       0       0   \n",
       "2      1       0       0       0       0       0       0       0       0   \n",
       "3      4       0       0       0       0       0       0       0       0   \n",
       "4      0       0       0       0       0       0       0       0       0   \n",
       "\n",
       "   pixel8  ...  pixel774  pixel775  pixel776  pixel777  pixel778  pixel779  \\\n",
       "0       0  ...         0         0         0         0         0         0   \n",
       "1       0  ...         0         0         0         0         0         0   \n",
       "2       0  ...         0         0         0         0         0         0   \n",
       "3       0  ...         0         0         0         0         0         0   \n",
       "4       0  ...         0         0         0         0         0         0   \n",
       "\n",
       "   pixel780  pixel781  pixel782  pixel783  \n",
       "0         0         0         0         0  \n",
       "1         0         0         0         0  \n",
       "2         0         0         0         0  \n",
       "3         0         0         0         0  \n",
       "4         0         0         0         0  \n",
       "\n",
       "[5 rows x 785 columns]"
      ]
     },
     "execution_count": 2,
     "metadata": {},
     "output_type": "execute_result"
    }
   ],
   "source": [
    "df = pd.read_csv('/kaggle/input/digit-recognizer/train.csv')\n",
    "df.head()"
   ]
  },
  {
   "cell_type": "code",
   "execution_count": 3,
   "id": "8fe32818",
   "metadata": {
    "execution": {
     "iopub.execute_input": "2025-08-28T20:17:39.741368Z",
     "iopub.status.busy": "2025-08-28T20:17:39.741129Z",
     "iopub.status.idle": "2025-08-28T20:17:39.744946Z",
     "shell.execute_reply": "2025-08-28T20:17:39.744241Z"
    },
    "papermill": {
     "duration": 0.010055,
     "end_time": "2025-08-28T20:17:39.746101",
     "exception": false,
     "start_time": "2025-08-28T20:17:39.736046",
     "status": "completed"
    },
    "tags": []
   },
   "outputs": [],
   "source": [
    "def one_hot(y, n_classes):\n",
    "    out = np.zeros((y.shape[0], n_classes))\n",
    "    out[np.arange(y.shape[0]), y] = 1\n",
    "    return out"
   ]
  },
  {
   "cell_type": "code",
   "execution_count": 4,
   "id": "8b26cfbf",
   "metadata": {
    "execution": {
     "iopub.execute_input": "2025-08-28T20:17:39.755582Z",
     "iopub.status.busy": "2025-08-28T20:17:39.755376Z",
     "iopub.status.idle": "2025-08-28T20:17:39.768741Z",
     "shell.execute_reply": "2025-08-28T20:17:39.768159Z"
    },
    "papermill": {
     "duration": 0.019545,
     "end_time": "2025-08-28T20:17:39.769806",
     "exception": false,
     "start_time": "2025-08-28T20:17:39.750261",
     "status": "completed"
    },
    "tags": []
   },
   "outputs": [],
   "source": [
    "def visualize_results(t_l, v_l):\n",
    "    \"\"\"\n",
    "    Enhanced visualization of training progress with animations and insights\n",
    "    \"\"\"\n",
    "    # Create an enhanced static plot\n",
    "    fig, axes = plt.subplots(2, 2, figsize=(15, 10))\n",
    "    fig.suptitle('🚀 CNN Training Analytics Dashboard', fontsize=16, fontweight='bold')\n",
    "\n",
    "    # Training Loss\n",
    "    axes[0,0].plot(t_l, 'b-', linewidth=2, marker='o', markersize=4, alpha=0.8)\n",
    "    axes[0,0].set_title('📉 Training Loss Evolution', fontsize=12, fontweight='bold')\n",
    "    axes[0,0].set_xlabel('Epochs')\n",
    "    axes[0,0].set_ylabel('Loss')\n",
    "    axes[0,0].grid(True, alpha=0.3)\n",
    "    axes[0,0].fill_between(range(len(t_l)), t_l, alpha=0.3, color='blue')\n",
    "    \n",
    "    # Add loss reduction annotation\n",
    "    if len(t_l) > 1:\n",
    "        improvement = ((t_l[0] - t_l[-1]) / t_l[0]) * 100\n",
    "        axes[0,0].annotate(f'Loss reduced by {improvement:.1f}%', \n",
    "                          xy=(len(t_l)-1, t_l[-1]), xytext=(len(t_l)*0.7, t_l[0]*0.8),\n",
    "                          arrowprops=dict(arrowstyle='->', color='red', lw=2),\n",
    "                          bbox=dict(boxstyle=\"round,pad=0.3\", facecolor=\"yellow\", alpha=0.7))\n",
    "\n",
    "    # Validation Accuracy\n",
    "    axes[0,1].plot(v_l, 'g-', linewidth=2, marker='s', markersize=4, alpha=0.8)\n",
    "    axes[0,1].set_title('📈 Validation Accuracy Growth', fontsize=12, fontweight='bold')\n",
    "    axes[0,1].set_xlabel('Epochs')\n",
    "    axes[0,1].set_ylabel('Accuracy')\n",
    "    axes[0,1].grid(True, alpha=0.3)\n",
    "    axes[0,1].fill_between(range(len(v_l)), v_l, alpha=0.3, color='green')\n",
    "    \n",
    "    # Add accuracy milestone annotations\n",
    "    milestones = [0.5, 0.7, 0.8, 0.9]\n",
    "    for milestone in milestones:\n",
    "        if max(v_l) >= milestone:\n",
    "            first_reach = next(i for i, acc in enumerate(v_l) if acc >= milestone)\n",
    "            axes[0,1].axhline(y=milestone, color='red', linestyle='--', alpha=0.5)\n",
    "            axes[0,1].annotate(f'{milestone*100:.0f}% reached at epoch {first_reach+1}', \n",
    "                              xy=(first_reach, milestone), xytext=(first_reach+2, milestone+0.05),\n",
    "                              fontsize=8, alpha=0.8)\n",
    "\n",
    "    # Learning Curve Analysis\n",
    "    axes[1,0].plot(t_l, label='Training Loss', linewidth=2, alpha=0.8)\n",
    "    # Normalize accuracy for comparison\n",
    "    normalized_acc = [1-acc for acc in v_l]  # Convert to \"error\" for comparison\n",
    "    axes[1,0].plot(normalized_acc, label='Validation Error (1-accuracy)', linewidth=2, alpha=0.8)\n",
    "    axes[1,0].set_title('🔍 Learning Curve Analysis', fontsize=12, fontweight='bold')\n",
    "    axes[1,0].set_xlabel('Epochs')\n",
    "    axes[1,0].set_ylabel('Error Rate')\n",
    "    axes[1,0].legend()\n",
    "    axes[1,0].grid(True, alpha=0.3)\n",
    "    \n",
    "    # Training Statistics\n",
    "    axes[1,1].axis('off')\n",
    "    stats_text = f\"\"\"\n",
    "    📊 Training Summary:\n",
    "    \n",
    "    🎯 Final Accuracy: {v_l[-1]*100:.2f}%\n",
    "    📉 Final Loss: {t_l[-1]:.4f}\n",
    "    🚀 Best Accuracy: {max(v_l)*100:.2f}%\n",
    "    📈 Total Improvement: {(v_l[-1]-v_l[0])*100:+.2f}%\n",
    "    🔄 Epochs Completed: {len(t_l)}\n",
    "    \n",
    "    💡 Insights:\n",
    "    • Network converged {'quickly' if len(t_l) < 15 else 'steadily'}\n",
    "    • {'Excellent' if max(v_l) > 0.9 else 'Good' if max(v_l) > 0.8 else 'Moderate'} performance achieved\n",
    "    • {'No overfitting detected' if t_l[-1] < t_l[0]*2 else 'Monitor for overfitting'}\n",
    "    \"\"\"\n",
    "    \n",
    "    axes[1,1].text(0.05, 0.95, stats_text, transform=axes[1,1].transAxes, \n",
    "                   fontsize=10, verticalalignment='top',\n",
    "                   bbox=dict(boxstyle=\"round,pad=0.5\", facecolor=\"lightblue\", alpha=0.8))\n",
    "\n",
    "    plt.tight_layout()\n",
    "    plt.show()\n",
    "    \n",
    "    # Create an interactive Plotly version for additional insights\n",
    "    fig_plotly = make_subplots(rows=1, cols=2, \n",
    "                              subplot_titles=['Training Loss', 'Validation Accuracy'],\n",
    "                              specs=[[{\"secondary_y\": True}, {\"secondary_y\": True}]])\n",
    "    \n",
    "    fig_plotly.add_trace(go.Scatter(x=list(range(len(t_l))), y=t_l, \n",
    "                                   mode='lines+markers', name='Training Loss',\n",
    "                                   line=dict(color='blue', width=3)), row=1, col=1)\n",
    "    \n",
    "    fig_plotly.add_trace(go.Scatter(x=list(range(len(v_l))), y=v_l, \n",
    "                                   mode='lines+markers', name='Validation Accuracy',\n",
    "                                   line=dict(color='green', width=3)), row=1, col=2)\n",
    "    \n",
    "    fig_plotly.update_layout(title_text=\"🚀 Interactive Training Progress\", \n",
    "                            title_x=0.5, height=400)\n",
    "    fig_plotly.show()"
   ]
  },
  {
   "cell_type": "code",
   "execution_count": 5,
   "id": "60018740",
   "metadata": {
    "execution": {
     "iopub.execute_input": "2025-08-28T20:17:39.778805Z",
     "iopub.status.busy": "2025-08-28T20:17:39.778599Z",
     "iopub.status.idle": "2025-08-28T20:17:39.783279Z",
     "shell.execute_reply": "2025-08-28T20:17:39.782726Z"
    },
    "papermill": {
     "duration": 0.010525,
     "end_time": "2025-08-28T20:17:39.784543",
     "exception": false,
     "start_time": "2025-08-28T20:17:39.774018",
     "status": "completed"
    },
    "tags": []
   },
   "outputs": [],
   "source": [
    "def evaluate(model, x_test, y_test):\n",
    "    predictions = []\n",
    "    for i in range(0, len(x_test), 32):\n",
    "        x_batch = x_test[i:i+32]\n",
    "        pred_batch = model.forward(x_batch)\n",
    "        predictions.extend(np.argmax(pred_batch, axis=1))\n",
    "    \n",
    "    predictions = np.array(predictions)\n",
    "    true_labels = np.argmax(y_test, axis=1) if len(y_test.shape) > 1 else y_test\n",
    "    s = '                      '\n",
    "    print(s, 'CLASSIFICATION REPORT\\n', classification_report(true_labels, predictions), '\\n\\n')\n",
    "    \n",
    "    cm = confusion_matrix(true_labels, predictions)\n",
    "    ConfusionMatrixDisplay(cm).plot(cmap='Blues');\n",
    "    plt.show();"
   ]
  },
  {
   "cell_type": "code",
   "execution_count": 6,
   "id": "b76c2ec6",
   "metadata": {
    "execution": {
     "iopub.execute_input": "2025-08-28T20:17:39.793933Z",
     "iopub.status.busy": "2025-08-28T20:17:39.793282Z",
     "iopub.status.idle": "2025-08-28T20:17:39.797678Z",
     "shell.execute_reply": "2025-08-28T20:17:39.796968Z"
    },
    "papermill": {
     "duration": 0.010127,
     "end_time": "2025-08-28T20:17:39.798819",
     "exception": false,
     "start_time": "2025-08-28T20:17:39.788692",
     "status": "completed"
    },
    "tags": []
   },
   "outputs": [],
   "source": [
    "def plot(idx):\n",
    "    inp, label = x[idx:idx+1], y[idx]\n",
    "    inp = np.array(inp)\n",
    "    inp = model.forward(inp)\n",
    "    pred = np.argmax(inp, axis=1)\n",
    "    img = x[idx].reshape((28, 28))\n",
    "    plt.figure(figsize=(4,4))\n",
    "    plt.title(f'Predicted as : {pred[0]}')\n",
    "    plt.imshow(img)\n",
    "    plt.axis('off')"
   ]
  },
  {
   "cell_type": "code",
   "execution_count": 7,
   "id": "e8771bdc",
   "metadata": {
    "execution": {
     "iopub.execute_input": "2025-08-28T20:17:39.807878Z",
     "iopub.status.busy": "2025-08-28T20:17:39.807470Z",
     "iopub.status.idle": "2025-08-28T20:17:39.811222Z",
     "shell.execute_reply": "2025-08-28T20:17:39.810554Z"
    },
    "papermill": {
     "duration": 0.009304,
     "end_time": "2025-08-28T20:17:39.812263",
     "exception": false,
     "start_time": "2025-08-28T20:17:39.802959",
     "status": "completed"
    },
    "tags": []
   },
   "outputs": [],
   "source": [
    "class ReLU:\n",
    "    def __init__(self):\n",
    "        self.inp_cache = None\n",
    "        \n",
    "    def forward(self, x):\n",
    "        self.inp_cache = x\n",
    "        return np.maximum(0, x)\n",
    "        \n",
    "    def backward(self, dout):\n",
    "        return dout*(self.inp_cache>0)"
   ]
  },
  {
   "cell_type": "code",
   "execution_count": 8,
   "id": "9576350d",
   "metadata": {
    "execution": {
     "iopub.execute_input": "2025-08-28T20:17:39.821285Z",
     "iopub.status.busy": "2025-08-28T20:17:39.820915Z",
     "iopub.status.idle": "2025-08-28T20:17:39.824920Z",
     "shell.execute_reply": "2025-08-28T20:17:39.824240Z"
    },
    "papermill": {
     "duration": 0.009663,
     "end_time": "2025-08-28T20:17:39.825969",
     "exception": false,
     "start_time": "2025-08-28T20:17:39.816306",
     "status": "completed"
    },
    "tags": []
   },
   "outputs": [],
   "source": [
    "class Softmax:\n",
    "    def __init__(self):\n",
    "        self.out_cache = None\n",
    "        \n",
    "    def forward(self, x):\n",
    "        ex = np.exp(x - np.max(x, axis=1, keepdims=True))\n",
    "        self.out_cache = ex / np.sum(ex, axis=1, keepdims=True)\n",
    "        return self.out_cache\n",
    "        \n",
    "    def backward(self, dout):\n",
    "        return dout"
   ]
  },
  {
   "cell_type": "code",
   "execution_count": 9,
   "id": "7c41eed7",
   "metadata": {
    "execution": {
     "iopub.execute_input": "2025-08-28T20:17:39.834924Z",
     "iopub.status.busy": "2025-08-28T20:17:39.834728Z",
     "iopub.status.idle": "2025-08-28T20:17:39.839336Z",
     "shell.execute_reply": "2025-08-28T20:17:39.838832Z"
    },
    "papermill": {
     "duration": 0.010257,
     "end_time": "2025-08-28T20:17:39.840361",
     "exception": false,
     "start_time": "2025-08-28T20:17:39.830104",
     "status": "completed"
    },
    "tags": []
   },
   "outputs": [],
   "source": [
    "class Dense:\n",
    "    def __init__(self, in_dim, out_dim):\n",
    "        lim = np.sqrt(6.0/(in_dim+out_dim))\n",
    "        self.W = np.random.uniform(-lim, lim, (in_dim, out_dim))\n",
    "        self.B = np.zeros((1, out_dim))\n",
    "        self.inp_cache = None\n",
    "        self.dW = None\n",
    "        self.dB = None\n",
    "\n",
    "    def forward(self, x):\n",
    "        self.inp_cache = x\n",
    "        out = np.dot(x, self.W)\n",
    "        out += self.B\n",
    "        return out\n",
    "\n",
    "    def backward(self, dout):\n",
    "        self.dW = np.dot(self.inp_cache.T, dout)\n",
    "        self.dB = np.sum(dout, axis=0, keepdims=True)\n",
    "        return np.dot(dout, self.W.T)"
   ]
  },
  {
   "cell_type": "markdown",
   "id": "d0584471",
   "metadata": {
    "papermill": {
     "duration": 0.003971,
     "end_time": "2025-08-28T20:17:39.848458",
     "exception": false,
     "start_time": "2025-08-28T20:17:39.844487",
     "status": "completed"
    },
    "tags": []
   },
   "source": [
    "## The Mathematics of Convolution - Where the Magic Happens\n",
    "\n",
    "Convolution is the fundamental operation that gives CNNs their power. Rather than processing each pixel independently, convolution examines local neighborhoods of pixels, detecting patterns and features through learned filters. This local connectivity mimics how biological visual systems process information - starting with simple edge detection and building up to complex pattern recognition.\n",
    "\n",
    "Let's explore this concept with an interactive visualization that demonstrates how a filter 'slides' across an image, computing feature activations at each position."
   ]
  },
  {
   "cell_type": "markdown",
   "id": "aa489ff0",
   "metadata": {
    "papermill": {
     "duration": 0.003948,
     "end_time": "2025-08-28T20:17:39.856414",
     "exception": false,
     "start_time": "2025-08-28T20:17:39.852466",
     "status": "completed"
    },
    "tags": []
   },
   "source": [
    "def create_convolution_animation():\n",
    "    \"\"\"\n",
    "    Creates an interactive animation showing how convolution works.\n",
    "    Demonstrates kernel sliding across input to produce feature map.\n",
    "    \"\"\"\n",
    "    # Create a simple input image (5x5) and kernel (3x3)\n",
    "    input_img = np.array([\n",
    "        [1, 1, 1, 0, 0],\n",
    "        [0, 1, 1, 1, 0],\n",
    "        [0, 0, 1, 1, 1],\n",
    "        [0, 0, 1, 1, 0],\n",
    "        [0, 1, 1, 0, 0]\n",
    "    ])\n",
    "    \n",
    "    # Edge detection kernel\n",
    "    kernel = np.array([\n",
    "        [-1, -1, -1],\n",
    "        [-1,  8, -1],\n",
    "        [-1, -1, -1]\n",
    "    ])\n",
    "    \n",
    "    fig, axes = plt.subplots(1, 3, figsize=(15, 5))\n",
    "    \n",
    "    # Animation function\n",
    "    def animate(frame):\n",
    "        for ax in axes:\n",
    "            ax.clear()\n",
    "        \n",
    "        # Calculate kernel position\n",
    "        max_frames = 9  # 3x3 positions for kernel\n",
    "        row = frame // 3\n",
    "        col = frame % 3\n",
    "        \n",
    "        if frame < max_frames:\n",
    "            # Show input with highlighted region\n",
    "            axes[0].imshow(input_img, cmap='Blues', alpha=0.7)\n",
    "            axes[0].add_patch(Rectangle((col-0.5, row-0.5), 3, 3, \n",
    "                                      linewidth=3, edgecolor='red', facecolor='none'))\n",
    "            axes[0].set_title('Input Image\\n(Red box shows kernel position)', fontsize=12)\n",
    "            axes[0].grid(True, alpha=0.3)\n",
    "            \n",
    "            # Show kernel\n",
    "            axes[1].imshow(kernel, cmap='RdBu', vmin=-1, vmax=1)\n",
    "            axes[1].set_title('Convolution Kernel\\n(Edge Detector)', fontsize=12)\n",
    "            for i in range(3):\n",
    "                for j in range(3):\n",
    "                    axes[1].text(j, i, f'{kernel[i,j]}', ha='center', va='center', \n",
    "                               fontweight='bold', fontsize=10)\n",
    "            \n",
    "            # Calculate and show convolution result\n",
    "            if row <= 2 and col <= 2:  # Valid convolution\n",
    "                region = input_img[row:row+3, col:col+3]\n",
    "                result = np.sum(region * kernel)\n",
    "                \n",
    "                # Show feature map\n",
    "                feature_map = np.zeros((3, 3))\n",
    "                feature_map[row, col] = result\n",
    "                \n",
    "                axes[2].imshow(feature_map, cmap='viridis', vmin=-8, vmax=8)\n",
    "                axes[2].set_title(f'Feature Map\\nValue at ({row},{col}): {result:.1f}', fontsize=12)\n",
    "                axes[2].text(col, row, f'{result:.1f}', ha='center', va='center', \n",
    "                           fontweight='bold', color='white', fontsize=12)\n",
    "        \n",
    "        for ax in axes:\n",
    "            ax.set_xticks(range(ax.get_xlim()[1]))\n",
    "            ax.set_yticks(range(ax.get_ylim()[1]))\n",
    "    \n",
    "    # Create animation\n",
    "    anim = animation.FuncAnimation(fig, animate, frames=9, interval=1500, repeat=True)\n",
    "    plt.tight_layout()\n",
    "    return anim\n",
    "\n",
    "# Create and display the animation\n",
    "print(\"🎬 Convolution Operation Animation\")\n",
    "print(\"Watch how the kernel slides across the input to detect edges!\")\n",
    "conv_anim = create_convolution_animation()\n",
    "plt.show()\n",
    "\n",
    "# Also create a static explanation\n",
    "fig, ax = plt.subplots(1, 1, figsize=(10, 6))\n",
    "ax.text(0.5, 0.7, '🔍 How Convolution Works:', ha='center', fontsize=16, fontweight='bold')\n",
    "ax.text(0.5, 0.5, '1. Slide the kernel across the input image\\n2. At each position, multiply kernel values with underlying pixels\\n3. Sum the results to get a single output value\\n4. This creates a feature map highlighting detected patterns', \n",
    "        ha='center', fontsize=12, bbox=dict(boxstyle=\"round,pad=0.5\", facecolor=\"lightblue\"))\n",
    "ax.set_xlim(0, 1)\n",
    "ax.set_ylim(0, 1)\n",
    "ax.axis('off')\n",
    "plt.title('Understanding Convolution', fontsize=18, fontweight='bold')\n",
    "plt.tight_layout()\n",
    "plt.show()"
   ]
  },
  {
   "cell_type": "code",
   "execution_count": 10,
   "id": "a1fa4a5e",
   "metadata": {
    "execution": {
     "iopub.execute_input": "2025-08-28T20:17:39.865534Z",
     "iopub.status.busy": "2025-08-28T20:17:39.865332Z",
     "iopub.status.idle": "2025-08-28T20:17:39.876664Z",
     "shell.execute_reply": "2025-08-28T20:17:39.876173Z"
    },
    "papermill": {
     "duration": 0.017233,
     "end_time": "2025-08-28T20:17:39.877678",
     "exception": false,
     "start_time": "2025-08-28T20:17:39.860445",
     "status": "completed"
    },
    "tags": []
   },
   "outputs": [],
   "source": [
    "class ConvLayer:\n",
    "    def __init__(self, in_channels, out_channels, kernel_size, stride = 1, padding=0):\n",
    "        self.Cin = in_channels\n",
    "        self.Cout = out_channels\n",
    "        self.kernel_size = kernel_size\n",
    "        self.padding = padding\n",
    "        self.stride = stride\n",
    "\n",
    "        f_in = in_channels * kernel_size * kernel_size\n",
    "        f_out = out_channels * kernel_size * kernel_size\n",
    "        limit = np.sqrt(6.0/(f_in + f_out))\n",
    "\n",
    "        w_shape = (self.Cout, self.Cin, kernel_size, kernel_size)\n",
    "        \n",
    "        self.W = np.random.uniform(-limit, limit, w_shape)  # (OC, IC, K, K)\n",
    "        self.B = np.zeros((self.Cout, 1))                   # (OC, 1)\n",
    "\n",
    "        self.inp_cache = None\n",
    "        self.dW = None\n",
    "        self.dB = None\n",
    "\n",
    "\n",
    "    def out_size(self, d):\n",
    "        temp = d + (2*self.padding)\n",
    "        temp = temp - self.kernel_size\n",
    "        temp = temp // self.stride\n",
    "        return temp + 1\n",
    "    \n",
    "    def pad(self, x):\n",
    "        if self.padding == 0:\n",
    "            return x\n",
    "        else:\n",
    "            pad_tuple = ((0,0), (0,0), (self.padding, self.padding), (self.padding,self.padding))\n",
    "            x_pad = np.pad(x, pad_tuple, mode='constant', constant_values = 0)\n",
    "            return x_pad\n",
    "            \n",
    "    def unpad(self, x):\n",
    "        if self.padding == 0:\n",
    "            return x\n",
    "        else:\n",
    "            x_un = x[:, :, self.padding:-self.padding, self.padding:-self.padding]\n",
    "            return x_un\n",
    "    \n",
    "    def forward(self, x):\n",
    "        # Conv Layer\n",
    "        N, C, H, W = x.shape\n",
    "        \n",
    "        xp = self.pad(x)\n",
    "        oh, ow = self.out_size(H), self.out_size(W)\n",
    "        out = np.zeros((N, self.Cout, oh, ow))\n",
    "        self.inp_cache = x\n",
    "\n",
    "        for b in range(N):\n",
    "            for oc in range(self.Cout):\n",
    "                for i in range(oh):\n",
    "                    for j in range(ow):\n",
    "                        h_start = i * self.stride\n",
    "                        w_start = j * self.stride\n",
    "                        h_end = h_start + self.kernel_size\n",
    "                        w_end = w_start + self.kernel_size\n",
    "                        region = xp[b, :, h_start:h_end, w_start:w_end]  #  (N, IC, K, K)\n",
    "                        out[b, oc, i, j] = np.sum(region * self.W[oc]) + self.B[oc].item()   # (N, 1, 1, 1)\n",
    "        return out\n",
    "\n",
    "    def backward(self, dout):\n",
    "        X = self.inp_cache\n",
    "        N, C, H, W = X.shape\n",
    "        xp = self.pad(X)\n",
    "\n",
    "        _, _, oh, ow = dout.shape\n",
    "\n",
    "        self.dW = np.zeros_like(self.W)\n",
    "        self.dB = np.zeros_like(self.B)\n",
    "        dxp = np.zeros_like(xp)\n",
    "\n",
    "        for b in range(N):\n",
    "            for oc in range(self.Cout):\n",
    "                for i in range(oh):\n",
    "                    for j in range(ow):\n",
    "                        h_start = i * self.stride\n",
    "                        w_start = j * self.stride\n",
    "                        h_end = h_start + self.kernel_size\n",
    "                        w_end = w_start + self.kernel_size\n",
    "\n",
    "                        # gradiesnt wrt tp weigths self.W\n",
    "                        region = xp[b, :, h_start:h_end, w_start:w_end]  #  (N, IC, K, K)\n",
    "                        self.dW[oc] += dout[b, oc, i, j] * region\n",
    "\n",
    "                        # gradiesnt wrt to bias term self.B\n",
    "                        self.dB[oc] += dout[b, oc, i, j]\n",
    "                        \n",
    "                        # gradiesnt wrt. to padded x i.e., xp\n",
    "                        dxp[b, :, h_start:h_end, w_start:w_end] = dout[b, oc, i, j] * self.W[oc]\n",
    "\n",
    "        dx = self.unpad(dxp)\n",
    "        return dx"
   ]
  },
  {
   "cell_type": "code",
   "execution_count": 11,
   "id": "6f912fa3",
   "metadata": {
    "execution": {
     "iopub.execute_input": "2025-08-28T20:17:39.886576Z",
     "iopub.status.busy": "2025-08-28T20:17:39.886382Z",
     "iopub.status.idle": "2025-08-28T20:17:39.893870Z",
     "shell.execute_reply": "2025-08-28T20:17:39.893356Z"
    },
    "papermill": {
     "duration": 0.013201,
     "end_time": "2025-08-28T20:17:39.894924",
     "exception": false,
     "start_time": "2025-08-28T20:17:39.881723",
     "status": "completed"
    },
    "tags": []
   },
   "outputs": [],
   "source": [
    "class MaxPool:\n",
    "    def __init__(self, kernel_size=2, stride=2):\n",
    "        self.ks = kernel_size\n",
    "        self.stride = stride\n",
    "        self.inp_cache = None\n",
    "        self.mask = None\n",
    "\n",
    "    def forward(self, x):\n",
    "        # Pooling Layer\n",
    "        N, C, H, W = x.shape\n",
    "        self.inp_cache = x\n",
    "        \n",
    "        oh = (H - self.ks) // self.stride + 1\n",
    "        ow = (W - self.ks) // self.stride + 1\n",
    "        \n",
    "        out = np.zeros((N, C, oh, ow))\n",
    "        self.mask = np.zeros_like(x)\n",
    "        \n",
    "        for b in range(N):\n",
    "            for c in range(C):\n",
    "                for i in range(oh):\n",
    "                    for j in range(ow):\n",
    "                        h_start = i * self.stride\n",
    "                        w_start = j * self.stride\n",
    "                        h_end = h_start + self.ks\n",
    "                        w_end = w_start + self.ks\n",
    "                        region = x[b, c, h_start:h_end, w_start:w_end]\n",
    "                        val = np.max(region)\n",
    "                        out[b, c, i, j] = val\n",
    "                        masking = (region == val)\n",
    "                        self.mask[b, c, h_start:h_end, w_start:w_end] = masking\n",
    "        return out\n",
    "\n",
    "    def backward(self, dout):\n",
    "        # Pooling Layer\n",
    "        N, C, H, W = self.inp_cache.shape\n",
    "        dx = np.zeros_like(self.inp_cache)\n",
    "\n",
    "        _, _, oh, ow = dout.shape\n",
    "        \n",
    "        for b in range(N):\n",
    "            for c in range(C):\n",
    "                for i in range(oh):\n",
    "                    for j in range(ow):\n",
    "                        h_start = i * self.stride\n",
    "                        w_start = j * self.stride\n",
    "                        h_end = h_start + self.ks\n",
    "                        w_end = w_start + self.ks\n",
    "                        dx[b, c, h_start:h_end, w_start:w_end] += dout[b,c,i,j] * self.mask[b, c, h_start:h_end, w_start:w_end]\n",
    "        return dx"
   ]
  },
  {
   "cell_type": "code",
   "execution_count": 12,
   "id": "03442982",
   "metadata": {
    "execution": {
     "iopub.execute_input": "2025-08-28T20:17:39.904048Z",
     "iopub.status.busy": "2025-08-28T20:17:39.903815Z",
     "iopub.status.idle": "2025-08-28T20:17:39.907677Z",
     "shell.execute_reply": "2025-08-28T20:17:39.907026Z"
    },
    "papermill": {
     "duration": 0.00964,
     "end_time": "2025-08-28T20:17:39.908713",
     "exception": false,
     "start_time": "2025-08-28T20:17:39.899073",
     "status": "completed"
    },
    "tags": []
   },
   "outputs": [],
   "source": [
    "class Flatten:\n",
    "    def __init__(self):\n",
    "        self.shape = None\n",
    "\n",
    "    def forward(self, x):\n",
    "        self.shape = x.shape\n",
    "        x = x.reshape(x.shape[0], -1)\n",
    "        return x\n",
    "\n",
    "    def backward(self, dout):\n",
    "        return dout.reshape(self.shape)"
   ]
  },
  {
   "cell_type": "code",
   "execution_count": 13,
   "id": "1728dc50",
   "metadata": {
    "execution": {
     "iopub.execute_input": "2025-08-28T20:17:39.917893Z",
     "iopub.status.busy": "2025-08-28T20:17:39.917284Z",
     "iopub.status.idle": "2025-08-28T20:17:39.921064Z",
     "shell.execute_reply": "2025-08-28T20:17:39.920374Z"
    },
    "papermill": {
     "duration": 0.009358,
     "end_time": "2025-08-28T20:17:39.922125",
     "exception": false,
     "start_time": "2025-08-28T20:17:39.912767",
     "status": "completed"
    },
    "tags": []
   },
   "outputs": [],
   "source": [
    "def CrossEntropyLoss(pred, tar):\n",
    "    N = pred.shape[0]\n",
    "    pred = np.clip(pred, 1e-15, 1 - 1e-15)   # to prevent log(0)\n",
    "    loss = -np.sum(tar * np.log(pred)) / N\n",
    "    grad = (pred-tar) / N\n",
    "    return loss, grad"
   ]
  },
  {
   "cell_type": "code",
   "execution_count": 14,
   "id": "e8ecac81",
   "metadata": {
    "execution": {
     "iopub.execute_input": "2025-08-28T20:17:39.931092Z",
     "iopub.status.busy": "2025-08-28T20:17:39.930884Z",
     "iopub.status.idle": "2025-08-28T20:17:39.936926Z",
     "shell.execute_reply": "2025-08-28T20:17:39.936292Z"
    },
    "papermill": {
     "duration": 0.01168,
     "end_time": "2025-08-28T20:17:39.937958",
     "exception": false,
     "start_time": "2025-08-28T20:17:39.926278",
     "status": "completed"
    },
    "tags": []
   },
   "outputs": [],
   "source": [
    "class CNN:\n",
    "    def __init__(self):\n",
    "        self.layers = []\n",
    "        \n",
    "        self.layers.append(ConvLayer(in_channels=1, out_channels=4, kernel_size=3, padding=1))  # (1, 28, 28) -> (4, 28, 28)\n",
    "        self.layers.append(ReLU())\n",
    "        self.layers.append(MaxPool(kernel_size=2, stride=2))\n",
    "        \n",
    "        self.layers.append(ConvLayer(in_channels=4, out_channels=8, kernel_size=3, padding=1))  # (4, 14, 14) -> (8, 14, 14)\n",
    "        self.layers.append(ReLU())\n",
    "        self.layers.append(MaxPool(kernel_size=2, stride=2))\n",
    "\n",
    "        self.layers.append(Flatten())\n",
    "        self.layers.append(Dense(in_dim=392, out_dim=64))\n",
    "        self.layers.append(ReLU())\n",
    "        self.layers.append(Dense(in_dim=64, out_dim=10))\n",
    "        self.layers.append(Softmax())\n",
    "\n",
    "    def forward(self, x):\n",
    "        for i, layer in enumerate(self.layers):\n",
    "            x = layer.forward(x)\n",
    "        return x\n",
    "\n",
    "    def backward(self, dout):\n",
    "        for layer in reversed(self.layers):\n",
    "            dout = layer.backward(dout)\n",
    "\n",
    "    def step(self, lr=0.001):\n",
    "        for layer in self.layers:\n",
    "            if hasattr(layer, 'W'):\n",
    "                layer.W -= lr * layer.dW\n",
    "                layer.B -= lr * layer.dB"
   ]
  },
  {
   "cell_type": "code",
   "execution_count": 15,
   "id": "edc513f3",
   "metadata": {
    "execution": {
     "iopub.execute_input": "2025-08-28T20:17:39.947015Z",
     "iopub.status.busy": "2025-08-28T20:17:39.946787Z",
     "iopub.status.idle": "2025-08-28T20:17:39.957128Z",
     "shell.execute_reply": "2025-08-28T20:17:39.956450Z"
    },
    "papermill": {
     "duration": 0.016103,
     "end_time": "2025-08-28T20:17:39.958226",
     "exception": false,
     "start_time": "2025-08-28T20:17:39.942123",
     "status": "completed"
    },
    "tags": []
   },
   "outputs": [],
   "source": [
    "def train(model, x, y, lr, epochs=10, batch_size=32, split=0.1):\n",
    "    size = len(y)\n",
    "    split_size = int(size*(1-split))\n",
    "    val_size = size - split_size\n",
    "    x_train, y_train = x[:split_size], y[:split_size]\n",
    "    x_val, y_val = x[split_size:], y[split_size:]\n",
    "\n",
    "    interval = max(1, epochs//10)\n",
    "\n",
    "    n_train_batches = (split_size + batch_size - 1) // batch_size \n",
    "    n_val_batches = (val_size + batch_size - 1) // batch_size\n",
    "\n",
    "    progress_points = []\n",
    "    for i in range(1, 11):  # 10 progress points (10%, 20%, ..., 100%)\n",
    "        batch_idx = (i * split_size) // 10\n",
    "        progress_points.append(batch_idx)\n",
    "        \n",
    "    \n",
    "\n",
    "    print(\"\\nTRAINING CONFIGURATION\\n\")\n",
    "\n",
    "    print(f\"Training samples: {split_size:,} ({(1-split)*100:.1f}%)\")\n",
    "    print(f\"Validation samples: {val_size:,} ({split*100:.1f}%)\")\n",
    "    print(f\"Batch size: {batch_size}\")\n",
    "    print(f\"Learning rate: {lr}\\n\\n\")\n",
    "\n",
    "    print('..Training Started..')\n",
    "\n",
    "    best_val_acc = 0.0\n",
    "    h_loss, h_acc = [], []\n",
    "    for epoch in range(1, epochs+1):\n",
    "        progress_points = []\n",
    "        progress_idx = 0\n",
    "        for i in range(1, 11):  # 10 progress points (10%, 20%, ..., 100%)\n",
    "            batch_idx = (i * split_size) // 10\n",
    "            progress_points.append(batch_idx)\n",
    "        if epoch%interval==0:\n",
    "            print(f'Epoch: {epoch}/{epochs} [', end='')\n",
    "        start = time.time()\n",
    "        running_loss = 0.0\n",
    "        correct = 0.0\n",
    "        idx = np.random.permutation(len(y_train))\n",
    "        inp = x_train[idx]\n",
    "        label = y_train[idx]\n",
    "\n",
    "        for i in range(0, split_size, batch_size):\n",
    "            if epoch%interval==0 and progress_idx < len(progress_points) and i >= progress_points[progress_idx]:\n",
    "                print('█', end='', flush=True)\n",
    "                progress_idx += 1\n",
    "            x_batch = inp[i : i+batch_size]\n",
    "            y_batch = label[i : i+batch_size]\n",
    "\n",
    "            pred = model.forward(x_batch)\n",
    "            loss, grad = CrossEntropyLoss(pred, y_batch)\n",
    "            running_loss += loss\n",
    "\n",
    "            model.backward(grad)\n",
    "            model.step(lr)\n",
    "\n",
    "        \n",
    "        val_correct = 0\n",
    "        val_total = 0\n",
    "        for i in range(0, size-split_size, batch_size):\n",
    "            x_batch = x_val[i : i+batch_size]\n",
    "            y_batch = y_val[i : i+batch_size]\n",
    "\n",
    "            pred = model.forward(x_batch)\n",
    "            pred = np.argmax(pred,axis=1)\n",
    "            true = np.argmax(y_batch, axis=1)\n",
    "            val_correct += np.sum(pred == true)\n",
    "            val_total += len(y_batch)\n",
    "            \n",
    "        while progress_idx < 10 and epoch%interval==0:\n",
    "            print('█', end='', flush=True)\n",
    "            progress_idx += 1\n",
    "            \n",
    "        end = time.time()\n",
    "        avg_loss = running_loss / n_train_batches  # Average loss per batch\n",
    "        val_accuracy = val_correct / val_total  # Accuracy as fraction of correct predictions\n",
    "\n",
    "        if val_accuracy > best_val_acc:\n",
    "            best_val_acc = val_accuracy\n",
    "        \n",
    "        h_loss.append(avg_loss)\n",
    "        h_acc.append(val_accuracy)\n",
    "        if epoch%interval == 0:\n",
    "            print(f']   Loss: {h_loss[-1]:.4f},   Validation Accuracy: {h_acc[-1]:.4f},   Time Elapsed: {end - start:.2f}s')\n",
    "\n",
    "    print()\n",
    "    print(\"TRAINING COMPLETED!\\n\\n\")\n",
    "    print(f\"Final training loss: {h_loss[-1]:.4f}\")\n",
    "    print(f\"Final validation accuracy: {h_acc[-1]:.4f}\")\n",
    "    print(f\"Best validation accuracy: {best_val_acc:.4f}\")\n",
    "    print(f\"Total epochs completed: {epochs}\")\n",
    "    return model, h_loss, h_acc"
   ]
  },
  {
   "cell_type": "markdown",
   "id": "8e52ee0f",
   "metadata": {
    "papermill": {
     "duration": 0.004367,
     "end_time": "2025-08-28T20:17:39.967611",
     "exception": false,
     "start_time": "2025-08-28T20:17:39.963244",
     "status": "completed"
    },
    "tags": []
   },
   "source": [
    "## Training Our CNN - Bringing the Network to Life\n",
    "\n",
    "Now comes the exciting part - training our network! We'll watch our CNN learn to recognize handwritten digits through the iterative process of forward propagation, loss calculation, and backpropagation. \n",
    "\n",
    "**Training Strategy:**\n",
    "- 📊 **Dataset Size**: Using 3,000 samples for computational efficiency\n",
    "- 🎯 **Learning Rate**: 0.001 (conservative to ensure stable learning)\n",
    "- 🔄 **Epochs**: 25 iterations through the dataset\n",
    "- 📈 **Monitoring**: Real-time tracking of loss and accuracy\n",
    "\n",
    "The training process will show us how the network gradually improves its predictions, transitioning from random guesses to accurate digit classification."
   ]
  },
  {
   "cell_type": "markdown",
   "id": "981707f5",
   "metadata": {
    "papermill": {
     "duration": 0.003885,
     "end_time": "2025-08-28T20:17:39.975538",
     "exception": false,
     "start_time": "2025-08-28T20:17:39.971653",
     "status": "completed"
    },
    "tags": []
   },
   "source": [
    "<img src='https://ars.els-cdn.com/content/image/1-s2.0-S0893608015001896-gr2.jpg'>"
   ]
  },
  {
   "cell_type": "code",
   "execution_count": 16,
   "id": "c8baa3dd",
   "metadata": {
    "execution": {
     "iopub.execute_input": "2025-08-28T20:17:39.985043Z",
     "iopub.status.busy": "2025-08-28T20:17:39.984302Z",
     "iopub.status.idle": "2025-08-28T21:54:28.695893Z",
     "shell.execute_reply": "2025-08-28T21:54:28.695221Z"
    },
    "papermill": {
     "duration": 5808.717553,
     "end_time": "2025-08-28T21:54:28.697135",
     "exception": false,
     "start_time": "2025-08-28T20:17:39.979582",
     "status": "completed"
    },
    "tags": []
   },
   "outputs": [
    {
     "name": "stdout",
     "output_type": "stream",
     "text": [
      "\n",
      "TRAINING CONFIGURATION\n",
      "\n",
      "Training samples: 2,700 (90.0%)\n",
      "Validation samples: 300 (10.0%)\n",
      "Batch size: 32\n",
      "Learning rate: 0.001\n",
      "\n",
      "\n",
      "..Training Started..\n",
      "Epoch: 2/25 [██████████]   Loss: 1.2067,   Validation Accuracy: 0.7100,   Time Elapsed: 231.75s\n",
      "Epoch: 4/25 [██████████]   Loss: 0.7070,   Validation Accuracy: 0.7567,   Time Elapsed: 232.54s\n",
      "Epoch: 6/25 [██████████]   Loss: 0.5164,   Validation Accuracy: 0.8000,   Time Elapsed: 232.51s\n",
      "Epoch: 8/25 [██████████]   Loss: 0.3959,   Validation Accuracy: 0.8267,   Time Elapsed: 231.30s\n",
      "Epoch: 10/25 [██████████]   Loss: 0.3328,   Validation Accuracy: 0.8400,   Time Elapsed: 232.07s\n",
      "Epoch: 12/25 [██████████]   Loss: 0.2788,   Validation Accuracy: 0.8500,   Time Elapsed: 232.61s\n",
      "Epoch: 14/25 [██████████]   Loss: 0.2390,   Validation Accuracy: 0.8500,   Time Elapsed: 232.34s\n",
      "Epoch: 16/25 [██████████]   Loss: 0.2032,   Validation Accuracy: 0.8533,   Time Elapsed: 231.58s\n",
      "Epoch: 18/25 [██████████]   Loss: 0.1848,   Validation Accuracy: 0.8533,   Time Elapsed: 232.20s\n",
      "Epoch: 20/25 [██████████]   Loss: 0.1632,   Validation Accuracy: 0.8667,   Time Elapsed: 232.51s\n",
      "Epoch: 22/25 [██████████]   Loss: 0.1413,   Validation Accuracy: 0.8633,   Time Elapsed: 232.73s\n",
      "Epoch: 24/25 [██████████]   Loss: 0.1252,   Validation Accuracy: 0.8600,   Time Elapsed: 233.47s\n",
      "\n",
      "TRAINING COMPLETED!\n",
      "\n",
      "\n",
      "Final training loss: 0.1150\n",
      "Final validation accuracy: 0.8733\n",
      "Best validation accuracy: 0.8767\n",
      "Total epochs completed: 25\n"
     ]
    },
    {
     "name": "stderr",
     "output_type": "stream",
     "text": [
      "/tmp/ipykernel_19/194841292.py:75: UserWarning: Glyph 128201 (\\N{CHART WITH DOWNWARDS TREND}) missing from current font.\n",
      "  plt.tight_layout()\n",
      "/tmp/ipykernel_19/194841292.py:75: UserWarning: Glyph 128200 (\\N{CHART WITH UPWARDS TREND}) missing from current font.\n",
      "  plt.tight_layout()\n",
      "/tmp/ipykernel_19/194841292.py:75: UserWarning: Glyph 128269 (\\N{LEFT-POINTING MAGNIFYING GLASS}) missing from current font.\n",
      "  plt.tight_layout()\n",
      "/tmp/ipykernel_19/194841292.py:75: UserWarning: Glyph 128202 (\\N{BAR CHART}) missing from current font.\n",
      "  plt.tight_layout()\n",
      "/tmp/ipykernel_19/194841292.py:75: UserWarning: Glyph 127919 (\\N{DIRECT HIT}) missing from current font.\n",
      "  plt.tight_layout()\n",
      "/tmp/ipykernel_19/194841292.py:75: UserWarning: Glyph 128640 (\\N{ROCKET}) missing from current font.\n",
      "  plt.tight_layout()\n",
      "/tmp/ipykernel_19/194841292.py:75: UserWarning: Glyph 128260 (\\N{ANTICLOCKWISE DOWNWARDS AND UPWARDS OPEN CIRCLE ARROWS}) missing from current font.\n",
      "  plt.tight_layout()\n",
      "/tmp/ipykernel_19/194841292.py:75: UserWarning: Glyph 128161 (\\N{ELECTRIC LIGHT BULB}) missing from current font.\n",
      "  plt.tight_layout()\n",
      "/usr/local/lib/python3.11/dist-packages/IPython/core/pylabtools.py:151: UserWarning: Glyph 128201 (\\N{CHART WITH DOWNWARDS TREND}) missing from current font.\n",
      "  fig.canvas.print_figure(bytes_io, **kw)\n",
      "/usr/local/lib/python3.11/dist-packages/IPython/core/pylabtools.py:151: UserWarning: Glyph 128200 (\\N{CHART WITH UPWARDS TREND}) missing from current font.\n",
      "  fig.canvas.print_figure(bytes_io, **kw)\n",
      "/usr/local/lib/python3.11/dist-packages/IPython/core/pylabtools.py:151: UserWarning: Glyph 128269 (\\N{LEFT-POINTING MAGNIFYING GLASS}) missing from current font.\n",
      "  fig.canvas.print_figure(bytes_io, **kw)\n",
      "/usr/local/lib/python3.11/dist-packages/IPython/core/pylabtools.py:151: UserWarning: Glyph 128202 (\\N{BAR CHART}) missing from current font.\n",
      "  fig.canvas.print_figure(bytes_io, **kw)\n",
      "/usr/local/lib/python3.11/dist-packages/IPython/core/pylabtools.py:151: UserWarning: Glyph 127919 (\\N{DIRECT HIT}) missing from current font.\n",
      "  fig.canvas.print_figure(bytes_io, **kw)\n",
      "/usr/local/lib/python3.11/dist-packages/IPython/core/pylabtools.py:151: UserWarning: Glyph 128640 (\\N{ROCKET}) missing from current font.\n",
      "  fig.canvas.print_figure(bytes_io, **kw)\n",
      "/usr/local/lib/python3.11/dist-packages/IPython/core/pylabtools.py:151: UserWarning: Glyph 128260 (\\N{ANTICLOCKWISE DOWNWARDS AND UPWARDS OPEN CIRCLE ARROWS}) missing from current font.\n",
      "  fig.canvas.print_figure(bytes_io, **kw)\n",
      "/usr/local/lib/python3.11/dist-packages/IPython/core/pylabtools.py:151: UserWarning: Glyph 128161 (\\N{ELECTRIC LIGHT BULB}) missing from current font.\n",
      "  fig.canvas.print_figure(bytes_io, **kw)\n"
     ]
    },
    {
     "data": {
      "image/png": "[encoded data removed]",
      "text/plain": [
       "<Figure size 1500x1000 with 4 Axes>"
      ]
     },
     "metadata": {},
     "output_type": "display_data"
    },
    {
     "data": {
      "text/html": [
       "<html>\n",
       "<head><meta charset=\"utf-8\" /></head>\n",
       "<body>\n",
       "    <div>            <script src=\"https://cdnjs.cloudflare.com/ajax/libs/mathjax/2.7.5/MathJax.js?config=TeX-AMS-MML_SVG\"></script><script type=\"text/javascript\">if (window.MathJax && window.MathJax.Hub && window.MathJax.Hub.Config) {window.MathJax.Hub.Config({SVG: {font: \"STIX-Web\"}});}</script>                <script type=\"text/javascript\">window.PlotlyConfig = {MathJaxConfig: 'local'};</script>\n",
       "        <script charset=\"utf-8\" src=\"https://cdn.plot.ly/plotly-2.35.2.min.js\"></script>                <div id=\"bc59bb8e-970b-4cd8-9dfc-ca921e6de03a\" class=\"plotly-graph-div\" style=\"height:400px; width:100%;\"></div>            <script type=\"text/javascript\">                                    window.PLOTLYENV=window.PLOTLYENV || {};                                    if (document.getElementById(\"bc59bb8e-970b-4cd8-9dfc-ca921e6de03a\")) {                    Plotly.newPlot(                        \"bc59bb8e-970b-4cd8-9dfc-ca921e6de03a\",                        [{\"line\":{\"color\":\"blue\",\"width\":3},\"mode\":\"lines+markers\",\"name\":\"Training Loss\",\"x\":[0,1,2,3,4,5,6,7,8,9,10,11,12,13,14,15,16,17,18,19,20,21,22,23,24],\"y\":[4.532553344321163,1.2067463544513721,0.8750242759276964,0.7069686460745519,0.5811852595379201,0.5163788202291889,0.4453442427406601,0.3959473863261112,0.3610234371805722,0.33275802423777645,0.30887240586893305,0.27879450923944593,0.26049696479559165,0.23898133909271604,0.22196406239935618,0.20323733270769265,0.19304229418453403,0.18482071682755566,0.17032804369276883,0.1631826629495221,0.153486027283084,0.141340517942626,0.13139594124622156,0.12519333529212187,0.11503991336951214],\"type\":\"scatter\",\"xaxis\":\"x\",\"yaxis\":\"y\"},{\"line\":{\"color\":\"green\",\"width\":3},\"mode\":\"lines+markers\",\"name\":\"Validation Accuracy\",\"x\":[0,1,2,3,4,5,6,7,8,9,10,11,12,13,14,15,16,17,18,19,20,21,22,23,24],\"y\":[0.6,0.71,0.7533333333333333,0.7566666666666667,0.7833333333333333,0.8,0.8266666666666667,0.8266666666666667,0.8333333333333334,0.84,0.8466666666666667,0.85,0.85,0.85,0.85,0.8533333333333334,0.84,0.8533333333333334,0.8766666666666667,0.8666666666666667,0.8566666666666667,0.8633333333333333,0.87,0.86,0.8733333333333333],\"type\":\"scatter\",\"xaxis\":\"x2\",\"yaxis\":\"y3\"}],                        {\"template\":{\"data\":{\"histogram2dcontour\":[{\"type\":\"histogram2dcontour\",\"colorbar\":{\"outlinewidth\":0,\"ticks\":\"\"},\"colorscale\":[[0.0,\"#0d0887\"],[0.1111111111111111,\"#46039f\"],[0.2222222222222222,\"#7201a8\"],[0.3333333333333333,\"#9c179e\"],[0.4444444444444444,\"#bd3786\"],[0.5555555555555556,\"#d8576b\"],[0.6666666666666666,\"#ed7953\"],[0.7777777777777778,\"#fb9f3a\"],[0.8888888888888888,\"#fdca26\"],[1.0,\"#f0f921\"]]}],\"choropleth\":[{\"type\":\"choropleth\",\"colorbar\":{\"outlinewidth\":0,\"ticks\":\"\"}}],\"histogram2d\":[{\"type\":\"histogram2d\",\"colorbar\":{\"outlinewidth\":0,\"ticks\":\"\"},\"colorscale\":[[0.0,\"#0d0887\"],[0.1111111111111111,\"#46039f\"],[0.2222222222222222,\"#7201a8\"],[0.3333333333333333,\"#9c179e\"],[0.4444444444444444,\"#bd3786\"],[0.5555555555555556,\"#d8576b\"],[0.6666666666666666,\"#ed7953\"],[0.7777777777777778,\"#fb9f3a\"],[0.8888888888888888,\"#fdca26\"],[1.0,\"#f0f921\"]]}],\"heatmap\":[{\"type\":\"heatmap\",\"colorbar\":{\"outlinewidth\":0,\"ticks\":\"\"},\"colorscale\":[[0.0,\"#0d0887\"],[0.1111111111111111,\"#46039f\"],[0.2222222222222222,\"#7201a8\"],[0.3333333333333333,\"#9c179e\"],[0.4444444444444444,\"#bd3786\"],[0.5555555555555556,\"#d8576b\"],[0.6666666666666666,\"#ed7953\"],[0.7777777777777778,\"#fb9f3a\"],[0.8888888888888888,\"#fdca26\"],[1.0,\"#f0f921\"]]}],\"heatmapgl\":[{\"type\":\"heatmapgl\",\"colorbar\":{\"outlinewidth\":0,\"ticks\":\"\"},\"colorscale\":[[0.0,\"#0d0887\"],[0.1111111111111111,\"#46039f\"],[0.2222222222222222,\"#7201a8\"],[0.3333333333333333,\"#9c179e\"],[0.4444444444444444,\"#bd3786\"],[0.5555555555555556,\"#d8576b\"],[0.6666666666666666,\"#ed7953\"],[0.7777777777777778,\"#fb9f3a\"],[0.8888888888888888,\"#fdca26\"],[1.0,\"#f0f921\"]]}],\"contourcarpet\":[{\"type\":\"contourcarpet\",\"colorbar\":{\"outlinewidth\":0,\"ticks\":\"\"}}],\"contour\":[{\"type\":\"contour\",\"colorbar\":{\"outlinewidth\":0,\"ticks\":\"\"},\"colorscale\":[[0.0,\"#0d0887\"],[0.1111111111111111,\"#46039f\"],[0.2222222222222222,\"#7201a8\"],[0.3333333333333333,\"#9c179e\"],[0.4444444444444444,\"#bd3786\"],[0.5555555555555556,\"#d8576b\"],[0.6666666666666666,\"#ed7953\"],[0.7777777777777778,\"#fb9f3a\"],[0.8888888888888888,\"#fdca26\"],[1.0,\"#f0f921\"]]}],\"surface\":[{\"type\":\"surface\",\"colorbar\":{\"outlinewidth\":0,\"ticks\":\"\"},\"colorscale\":[[0.0,\"#0d0887\"],[0.1111111111111111,\"#46039f\"],[0.2222222222222222,\"#7201a8\"],[0.3333333333333333,\"#9c179e\"],[0.4444444444444444,\"#bd3786\"],[0.5555555555555556,\"#d8576b\"],[0.6666666666666666,\"#ed7953\"],[0.7777777777777778,\"#fb9f3a\"],[0.8888888888888888,\"#fdca26\"],[1.0,\"#f0f921\"]]}],\"mesh3d\":[{\"type\":\"mesh3d\",\"colorbar\":{\"outlinewidth\":0,\"ticks\":\"\"}}],\"scatter\":[{\"fillpattern\":{\"fillmode\":\"overlay\",\"size\":10,\"solidity\":0.2},\"type\":\"scatter\"}],\"parcoords\":[{\"type\":\"parcoords\",\"line\":{\"colorbar\":{\"outlinewidth\":0,\"ticks\":\"\"}}}],\"scatterpolargl\":[{\"type\":\"scatterpolargl\",\"marker\":{\"colorbar\":{\"outlinewidth\":0,\"ticks\":\"\"}}}],\"bar\":[{\"error_x\":{\"color\":\"#2a3f5f\"},\"error_y\":{\"color\":\"#2a3f5f\"},\"marker\":{\"line\":{\"color\":\"#E5ECF6\",\"width\":0.5},\"pattern\":{\"fillmode\":\"overlay\",\"size\":10,\"solidity\":0.2}},\"type\":\"bar\"}],\"scattergeo\":[{\"type\":\"scattergeo\",\"marker\":{\"colorbar\":{\"outlinewidth\":0,\"ticks\":\"\"}}}],\"scatterpolar\":[{\"type\":\"scatterpolar\",\"marker\":{\"colorbar\":{\"outlinewidth\":0,\"ticks\":\"\"}}}],\"histogram\":[{\"marker\":{\"pattern\":{\"fillmode\":\"overlay\",\"size\":10,\"solidity\":0.2}},\"type\":\"histogram\"}],\"scattergl\":[{\"type\":\"scattergl\",\"marker\":{\"colorbar\":{\"outlinewidth\":0,\"ticks\":\"\"}}}],\"scatter3d\":[{\"type\":\"scatter3d\",\"line\":{\"colorbar\":{\"outlinewidth\":0,\"ticks\":\"\"}},\"marker\":{\"colorbar\":{\"outlinewidth\":0,\"ticks\":\"\"}}}],\"scattermapbox\":[{\"type\":\"scattermapbox\",\"marker\":{\"colorbar\":{\"outlinewidth\":0,\"ticks\":\"\"}}}],\"scatterternary\":[{\"type\":\"scatterternary\",\"marker\":{\"colorbar\":{\"outlinewidth\":0,\"ticks\":\"\"}}}],\"scattercarpet\":[{\"type\":\"scattercarpet\",\"marker\":{\"colorbar\":{\"outlinewidth\":0,\"ticks\":\"\"}}}],\"carpet\":[{\"aaxis\":{\"endlinecolor\":\"#2a3f5f\",\"gridcolor\":\"white\",\"linecolor\":\"white\",\"minorgridcolor\":\"white\",\"startlinecolor\":\"#2a3f5f\"},\"baxis\":{\"endlinecolor\":\"#2a3f5f\",\"gridcolor\":\"white\",\"linecolor\":\"white\",\"minorgridcolor\":\"white\",\"startlinecolor\":\"#2a3f5f\"},\"type\":\"carpet\"}],\"table\":[{\"cells\":{\"fill\":{\"color\":\"#EBF0F8\"},\"line\":{\"color\":\"white\"}},\"header\":{\"fill\":{\"color\":\"#C8D4E3\"},\"line\":{\"color\":\"white\"}},\"type\":\"table\"}],\"barpolar\":[{\"marker\":{\"line\":{\"color\":\"#E5ECF6\",\"width\":0.5},\"pattern\":{\"fillmode\":\"overlay\",\"size\":10,\"solidity\":0.2}},\"type\":\"barpolar\"}],\"pie\":[{\"automargin\":true,\"type\":\"pie\"}]},\"layout\":{\"autotypenumbers\":\"strict\",\"colorway\":[\"#636efa\",\"#EF553B\",\"#00cc96\",\"#ab63fa\",\"#FFA15A\",\"#19d3f3\",\"#FF6692\",\"#B6E880\",\"#FF97FF\",\"#FECB52\"],\"font\":{\"color\":\"#2a3f5f\"},\"hovermode\":\"closest\",\"hoverlabel\":{\"align\":\"left\"},\"paper_bgcolor\":\"white\",\"plot_bgcolor\":\"#E5ECF6\",\"polar\":{\"bgcolor\":\"#E5ECF6\",\"angularaxis\":{\"gridcolor\":\"white\",\"linecolor\":\"white\",\"ticks\":\"\"},\"radialaxis\":{\"gridcolor\":\"white\",\"linecolor\":\"white\",\"ticks\":\"\"}},\"ternary\":{\"bgcolor\":\"#E5ECF6\",\"aaxis\":{\"gridcolor\":\"white\",\"linecolor\":\"white\",\"ticks\":\"\"},\"baxis\":{\"gridcolor\":\"white\",\"linecolor\":\"white\",\"ticks\":\"\"},\"caxis\":{\"gridcolor\":\"white\",\"linecolor\":\"white\",\"ticks\":\"\"}},\"coloraxis\":{\"colorbar\":{\"outlinewidth\":0,\"ticks\":\"\"}},\"colorscale\":{\"sequential\":[[0.0,\"#0d0887\"],[0.1111111111111111,\"#46039f\"],[0.2222222222222222,\"#7201a8\"],[0.3333333333333333,\"#9c179e\"],[0.4444444444444444,\"#bd3786\"],[0.5555555555555556,\"#d8576b\"],[0.6666666666666666,\"#ed7953\"],[0.7777777777777778,\"#fb9f3a\"],[0.8888888888888888,\"#fdca26\"],[1.0,\"#f0f921\"]],\"sequentialminus\":[[0.0,\"#0d0887\"],[0.1111111111111111,\"#46039f\"],[0.2222222222222222,\"#7201a8\"],[0.3333333333333333,\"#9c179e\"],[0.4444444444444444,\"#bd3786\"],[0.5555555555555556,\"#d8576b\"],[0.6666666666666666,\"#ed7953\"],[0.7777777777777778,\"#fb9f3a\"],[0.8888888888888888,\"#fdca26\"],[1.0,\"#f0f921\"]],\"diverging\":[[0,\"#8e0152\"],[0.1,\"#c51b7d\"],[0.2,\"#de77ae\"],[0.3,\"#f1b6da\"],[0.4,\"#fde0ef\"],[0.5,\"#f7f7f7\"],[0.6,\"#e6f5d0\"],[0.7,\"#b8e186\"],[0.8,\"#7fbc41\"],[0.9,\"#4d9221\"],[1,\"#276419\"]]},\"xaxis\":{\"gridcolor\":\"white\",\"linecolor\":\"white\",\"ticks\":\"\",\"title\":{\"standoff\":15},\"zerolinecolor\":\"white\",\"automargin\":true,\"zerolinewidth\":2},\"yaxis\":{\"gridcolor\":\"white\",\"linecolor\":\"white\",\"ticks\":\"\",\"title\":{\"standoff\":15},\"zerolinecolor\":\"white\",\"automargin\":true,\"zerolinewidth\":2},\"scene\":{\"xaxis\":{\"backgroundcolor\":\"#E5ECF6\",\"gridcolor\":\"white\",\"linecolor\":\"white\",\"showbackground\":true,\"ticks\":\"\",\"zerolinecolor\":\"white\",\"gridwidth\":2},\"yaxis\":{\"backgroundcolor\":\"#E5ECF6\",\"gridcolor\":\"white\",\"linecolor\":\"white\",\"showbackground\":true,\"ticks\":\"\",\"zerolinecolor\":\"white\",\"gridwidth\":2},\"zaxis\":{\"backgroundcolor\":\"#E5ECF6\",\"gridcolor\":\"white\",\"linecolor\":\"white\",\"showbackground\":true,\"ticks\":\"\",\"zerolinecolor\":\"white\",\"gridwidth\":2}},\"shapedefaults\":{\"line\":{\"color\":\"#2a3f5f\"}},\"annotationdefaults\":{\"arrowcolor\":\"#2a3f5f\",\"arrowhead\":0,\"arrowwidth\":1},\"geo\":{\"bgcolor\":\"white\",\"landcolor\":\"#E5ECF6\",\"subunitcolor\":\"white\",\"showland\":true,\"showlakes\":true,\"lakecolor\":\"white\"},\"title\":{\"x\":0.05},\"mapbox\":{\"style\":\"light\"}}},\"xaxis\":{\"anchor\":\"y\",\"domain\":[0.0,0.37]},\"yaxis\":{\"anchor\":\"x\",\"domain\":[0.0,1.0]},\"yaxis2\":{\"anchor\":\"x\",\"overlaying\":\"y\",\"side\":\"right\"},\"xaxis2\":{\"anchor\":\"y3\",\"domain\":[0.5700000000000001,0.9400000000000001]},\"yaxis3\":{\"anchor\":\"x2\",\"domain\":[0.0,1.0]},\"yaxis4\":{\"anchor\":\"x2\",\"overlaying\":\"y3\",\"side\":\"right\"},\"annotations\":[{\"font\":{\"size\":16},\"showarrow\":false,\"text\":\"Training Loss\",\"x\":0.185,\"xanchor\":\"center\",\"xref\":\"paper\",\"y\":1.0,\"yanchor\":\"bottom\",\"yref\":\"paper\"},{\"font\":{\"size\":16},\"showarrow\":false,\"text\":\"Validation Accuracy\",\"x\":0.7550000000000001,\"xanchor\":\"center\",\"xref\":\"paper\",\"y\":1.0,\"yanchor\":\"bottom\",\"yref\":\"paper\"}],\"title\":{\"text\":\"🚀 Interactive Training Progress\",\"x\":0.5},\"height\":400},                        {\"responsive\": true}                    ).then(function(){\n",
       "                            \n",
       "var gd = document.getElementById('bc59bb8e-970b-4cd8-9dfc-ca921e6de03a');\n",
       "var x = new MutationObserver(function (mutations, observer) {{\n",
       "        var display = window.getComputedStyle(gd).display;\n",
       "        if (!display || display === 'none') {{\n",
       "            console.log([gd, 'removed!']);\n",
       "            Plotly.purge(gd);\n",
       "            observer.disconnect();\n",
       "        }}\n",
       "}});\n",
       "\n",
       "// Listen for the removal of the full notebook cells\n",
       "var notebookContainer = gd.closest('#notebook-container');\n",
       "if (notebookContainer) {{\n",
       "    x.observe(notebookContainer, {childList: true});\n",
       "}}\n",
       "\n",
       "// Listen for the clearing of the current output cell\n",
       "var outputEl = gd.closest('.output');\n",
       "if (outputEl) {{\n",
       "    x.observe(outputEl, {childList: true});\n",
       "}}\n",
       "\n",
       "                        })                };                            </script>        </div>\n",
       "</body>\n",
       "</html>"
      ]
     },
     "metadata": {},
     "output_type": "display_data"
    }
   ],
   "source": [
    "x = df.iloc[:4500, 1:]\n",
    "y = df.iloc[:4500, 0]\n",
    "x = x.values.reshape(-1, 1, 28, 28)\n",
    "y = one_hot(y, 10)\n",
    "\n",
    "x.shape, y.shape\n",
    "model = CNN()\n",
    "model, tl, va = train(model, x[:3000], y[:3000], lr = 0.001, epochs=25)\n",
    "visualize_results(tl, va)"
   ]
  },
  {
   "cell_type": "markdown",
   "id": "6b9cb386",
   "metadata": {
    "papermill": {
     "duration": 0.012556,
     "end_time": "2025-08-28T21:54:28.723448",
     "exception": false,
     "start_time": "2025-08-28T21:54:28.710892",
     "status": "completed"
    },
    "tags": []
   },
   "source": [
    "<hr>"
   ]
  },
  {
   "cell_type": "markdown",
   "id": "300bcd88",
   "metadata": {
    "papermill": {
     "duration": 0.01258,
     "end_time": "2025-08-28T21:54:28.748785",
     "exception": false,
     "start_time": "2025-08-28T21:54:28.736205",
     "status": "completed"
    },
    "tags": []
   },
   "source": [
    "## Evaluation\n",
    "using 1000 unseen datapoints"
   ]
  },
  {
   "cell_type": "code",
   "execution_count": 17,
   "id": "bdb7519f",
   "metadata": {
    "execution": {
     "iopub.execute_input": "2025-08-28T21:54:28.775476Z",
     "iopub.status.busy": "2025-08-28T21:54:28.775215Z",
     "iopub.status.idle": "2025-08-28T21:55:05.146068Z",
     "shell.execute_reply": "2025-08-28T21:55:05.145296Z"
    },
    "papermill": {
     "duration": 36.38587,
     "end_time": "2025-08-28T21:55:05.147433",
     "exception": false,
     "start_time": "2025-08-28T21:54:28.761563",
     "status": "completed"
    },
    "tags": []
   },
   "outputs": [
    {
     "name": "stdout",
     "output_type": "stream",
     "text": [
      "                       CLASSIFICATION REPORT\n",
      "               precision    recall  f1-score   support\n",
      "\n",
      "           0       0.93      0.92      0.93       101\n",
      "           1       0.94      0.99      0.96       104\n",
      "           2       0.86      0.82      0.84       103\n",
      "           3       0.81      0.80      0.80       100\n",
      "           4       0.90      0.90      0.90        94\n",
      "           5       0.89      0.88      0.88        91\n",
      "           6       0.92      0.88      0.90       106\n",
      "           7       0.90      0.88      0.89       107\n",
      "           8       0.78      0.90      0.83       103\n",
      "           9       0.94      0.86      0.90        91\n",
      "\n",
      "    accuracy                           0.88      1000\n",
      "   macro avg       0.89      0.88      0.88      1000\n",
      "weighted avg       0.89      0.88      0.88      1000\n",
      " \n",
      "\n",
      "\n"
     ]
    },
    {
     "data": {
      "image/png": "[encoded data removed]",
      "text/plain": [
       "<Figure size 640x480 with 2 Axes>"
      ]
     },
     "metadata": {},
     "output_type": "display_data"
    }
   ],
   "source": [
    " evaluate(model, x[3000:4000], y[3000:4000])"
   ]
  },
  {
   "cell_type": "markdown",
   "id": "submission_section",
   "metadata": {},
   "source": [
    "## 📊 Generating Submission File\n",
    "\n",
    "Now that we have trained and evaluated our CNN model, let's create a submission file that can be used for competitions or external evaluation. The submission file will contain predictions for a test dataset in the standard format:\n",
    "\n",
    "```\n",
    "ImageId,Label\n",
    "1,0\n",
    "2,0\n",
    "3,0\n",
    "...\n",
    "```\n",
    "\n",
    "This format is commonly used in machine learning competitions and makes it easy to submit results for evaluation."
   ]
  },
  {
   "cell_type": "code",
   "execution_count": null,
   "id": "submission_function",
   "metadata": {},
   "outputs": [],
   "source": [
    "def generate_submission_file(model, test_data, filename='submission.csv', batch_size=32):\n",
    "    \"\"\"\n",
    "    Generate a submission file with predictions from the trained model.\n",
    "    \n",
    "    Parameters:\n",
    "    -----------\n",
    "    model : CNN\n",
    "        The trained CNN model\n",
    "    test_data : numpy.ndarray\n",
    "        Test images to make predictions on\n",
    "    filename : str\n",
    "        Name of the output CSV file (default: 'submission.csv')\n",
    "    batch_size : int\n",
    "        Batch size for predictions (default: 32)\n",
    "    \n",
    "    Returns:\n",
    "    --------\n",
    "    str : Path to the generated submission file\n",
    "    \"\"\"\n",
    "    print(f\"🔮 Generating predictions for {len(test_data)} test images...\")\n",
    "    \n",
    "    # Generate predictions in batches\n",
    "    predictions = []\n",
    "    for i in range(0, len(test_data), batch_size):\n",
    "        x_batch = test_data[i:i+batch_size]\n",
    "        pred_batch = model.forward(x_batch)\n",
    "        # Get the predicted class (argmax of softmax output)\n",
    "        batch_predictions = np.argmax(pred_batch, axis=1)\n",
    "        predictions.extend(batch_predictions)\n",
    "    \n",
    "    predictions = np.array(predictions)\n",
    "    \n",
    "    print(f\"📋 Creating submission file: {filename}\")\n",
    "    \n",
    "    # Create submission dataframe\n",
    "    submission_df = pd.DataFrame({\n",
    "        'ImageId': range(1, len(predictions) + 1),  # ImageId starts from 1\n",
    "        'Label': predictions\n",
    "    })\n",
    "    \n",
    "    # Save to CSV file\n",
    "    submission_df.to_csv(filename, index=False)\n",
    "    \n",
    "    print(f\"✅ Submission file created successfully!\")\n",
    "    print(f\"📁 File saved as: {filename}\")\n",
    "    print(f\"📊 Number of predictions: {len(predictions)}\")\n",
    "    print(f\"🎯 Predicted classes distribution:\")\n",
    "    \n",
    "    # Show distribution of predicted classes\n",
    "    unique, counts = np.unique(predictions, return_counts=True)\n",
    "    for class_label, count in zip(unique, counts):\n",
    "        print(f\"   Class {class_label}: {count} images ({count/len(predictions)*100:.1f}%)\")\n",
    "    \n",
    "    # Display first few rows of the submission file\n",
    "    print(\"\\n📋 First 10 rows of submission file:\")\n",
    "    print(submission_df.head(10).to_string(index=False))\n",
    "    \n",
    "    return filename"
   ]
  },
  {
   "cell_type": "code",
   "execution_count": null,
   "id": "generate_submission",
   "metadata": {},
   "outputs": [],
   "source": [
    "# Generate submission file using test data (images after index 4000)\n",
    "# We'll use a subset of the remaining data as our \"test set\" for demonstration\n",
    "test_start_idx = 4000\n",
    "test_end_idx = 5000  # Using 1000 test images\n",
    "\n",
    "# Ensure we don't exceed the dataset bounds\n",
    "test_end_idx = min(test_end_idx, len(x))\n",
    "\n",
    "print(f\"🎯 Using images {test_start_idx} to {test_end_idx-1} as test data\")\n",
    "test_images = x[test_start_idx:test_end_idx]\n",
    "\n",
    "# Generate the submission file\n",
    "submission_filename = generate_submission_file(\n",
    "    model=model, \n",
    "    test_data=test_images, \n",
    "    filename='cnn_predictions_submission.csv'\n",
    ")\n",
    "\n",
    "print(f\"\\n🚀 Ready for submission! Use the file '{submission_filename}' for competition or evaluation.\")"
   ]
  },
  {
   "cell_type": "markdown",
   "id": "submission_usage",
   "metadata": {},
   "source": [
    "### 📖 How to Use the Submission File\n",
    "\n",
    "The generated submission file can be used in various ways:\n",
    "\n",
    "1. **Competition Submission**: Upload the CSV file directly to platforms like Kaggle, DrivenData, or other ML competitions\n",
    "\n",
    "2. **Model Evaluation**: Use the predictions for further analysis or comparison with other models\n",
    "\n",
    "3. **Production Deployment**: The prediction logic can be adapted for real-time inference\n",
    "\n",
    "**File Format Details:**\n",
    "- **ImageId**: Sequential numbering starting from 1 (standard competition format)\n",
    "- **Label**: Predicted class (0-9 for MNIST digits)\n",
    "- **No Index**: The CSV file doesn't include pandas index for cleaner submission\n",
    "\n",
    "**Customization Options:**\n",
    "- Change the `filename` parameter to customize the output file name\n",
    "- Modify `batch_size` to optimize memory usage vs. processing speed\n",
    "- Adjust the test data range to use different portions of your dataset"
   ]
  },
  {
   "cell_type": "code",
   "execution_count": 18,
   "id": "fb3c31f2",
   "metadata": {
    "execution": {
     "iopub.execute_input": "2025-08-28T21:55:05.177310Z",
     "iopub.status.busy": "2025-08-28T21:55:05.177063Z",
     "iopub.status.idle": "2025-08-28T21:55:06.644777Z",
     "shell.execute_reply": "2025-08-28T21:55:06.644008Z"
    },
    "papermill": {
     "duration": 1.483889,
     "end_time": "2025-08-28T21:55:06.646065",
     "exception": false,
     "start_time": "2025-08-28T21:55:05.162176",
     "status": "completed"
    },
    "tags": []
   },
   "outputs": [
    {
     "data": {
      "image/png": "[encoded data removed]",
      "text/plain": [
       "<Figure size 400x400 with 1 Axes>"
      ]
     },
     "metadata": {},
     "output_type": "display_data"
    },
    {
     "data": {
      "image/png": "[encoded data removed]",
      "text/plain": [
       "<Figure size 400x400 with 1 Axes>"
      ]
     },
     "metadata": {},
     "output_type": "display_data"
    },
    {
     "data": {
      "image/png": "[encoded data removed]",
      "text/plain": [
       "<Figure size 400x400 with 1 Axes>"
      ]
     },
     "metadata": {},
     "output_type": "display_data"
    },
    {
     "data": {
      "image/png": "[encoded data removed]",
      "text/plain": [
       "<Figure size 400x400 with 1 Axes>"
      ]
     },
     "metadata": {},
     "output_type": "display_data"
    },
    {
     "data": {
      "image/png": "[encoded data removed]",
      "text/plain": [
       "<Figure size 400x400 with 1 Axes>"
      ]
     },
     "metadata": {},
     "output_type": "display_data"
    },
    {
     "data": {
      "image/png": "[encoded data removed]",
      "text/plain": [
       "<Figure size 400x400 with 1 Axes>"
      ]
     },
     "metadata": {},
     "output_type": "display_data"
    },
    {
     "data": {
      "image/png": "[encoded data removed]",
      "text/plain": [
       "<Figure size 400x400 with 1 Axes>"
      ]
     },
     "metadata": {},
     "output_type": "display_data"
    },
    {
     "data": {
      "image/png": "[encoded data removed]",
      "text/plain": [
       "<Figure size 400x400 with 1 Axes>"
      ]
     },
     "metadata": {},
     "output_type": "display_data"
    },
    {
     "data": {
      "image/png": "[encoded data removed]",
      "text/plain": [
       "<Figure size 400x400 with 1 Axes>"
      ]
     },
     "metadata": {},
     "output_type": "display_data"
    },
    {
     "data": {
      "image/png": "[encoded data removed]",
      "text/plain": [
       "<Figure size 400x400 with 1 Axes>"
      ]
     },
     "metadata": {},
     "output_type": "display_data"
    },
    {
     "data": {
      "image/png": "[encoded data removed]",
      "text/plain": [
       "<Figure size 400x400 with 1 Axes>"
      ]
     },
     "metadata": {},
     "output_type": "display_data"
    },
    {
     "data": {
      "image/png": "[encoded data removed]",
      "text/plain": [
       "<Figure size 400x400 with 1 Axes>"
      ]
     },
     "metadata": {},
     "output_type": "display_data"
    },
    {
     "data": {
      "image/png": "[encoded data removed]",
      "text/plain": [
       "<Figure size 400x400 with 1 Axes>"
      ]
     },
     "metadata": {},
     "output_type": "display_data"
    }
   ],
   "source": [
    "for i in range(4000, 4500, 40):\n",
    "    plot(i)"
   ]
  }
 ],
 "metadata": {
  "kaggle": {
   "accelerator": "gpu",
   "dataSources": [
    {
     "databundleVersionId": 861823,
     "sourceId": 3004,
     "sourceType": "competition"
    }
   ],
   "dockerImageVersionId": 31089,
   "isGpuEnabled": true,
   "isInternetEnabled": true,
   "language": "python",
   "sourceType": "notebook"
  },
  "kernelspec": {
   "display_name": "Python 3",
   "language": "python",
   "name": "python3"
  },
  "language_info": {
   "codemirror_mode": {
    "name": "ipython",
    "version": 3
   },
   "file_extension": ".py",
   "mimetype": "text/x-python",
   "name": "python",
   "nbconvert_exporter": "python",
   "pygments_lexer": "ipython3",
   "version": "3.11.13"
  },
  "papermill": {
   "default_parameters": {},
   "duration": 5857.741093,
   "end_time": "2025-08-28T21:55:07.286437",
   "environment_variables": {},
   "exception": null,
   "input_path": "__notebook__.ipynb",
   "output_path": "__notebook__.ipynb",
   "parameters": {},
   "start_time": "2025-08-28T20:17:29.545344",
   "version": "2.6.0"
  }
 },
 "nbformat": 4,
 "nbformat_minor": 5
}
