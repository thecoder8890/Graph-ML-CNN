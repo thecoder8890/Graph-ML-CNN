{
 "cells": [
  {
   "cell_type": "markdown",
   "id": "f3c23ba9",
   "metadata": {
    "papermill": {
     "duration": 0.004349,
     "end_time": "2025-06-01T06:18:18.280929",
     "exception": false,
     "start_time": "2025-06-01T06:18:18.276580",
     "status": "completed"
    },
    "tags": []
   },
   "source": [
    "# Building Convolutional Neural Networks from Scratch\n",
    "## A Deep Dive into Pure Python and NumPy Implementation\n",
    "\n",
    "Welcome to this comprehensive exploration of Convolutional Neural Networks! In this notebook, we'll construct a complete CNN architecture using only fundamental Python libraries - primarily NumPy - to classify handwritten digits from the MNIST dataset. This hands-on approach will provide deep insights into the mathematical foundations that power modern computer vision systems."
   ]
  },
  {
   "cell_type": "markdown",
   "id": "87834cfa",
   "metadata": {
    "papermill": {
     "duration": 0.003136,
     "end_time": "2025-06-01T06:18:18.287553",
     "exception": false,
     "start_time": "2025-06-01T06:18:18.284417",
     "status": "completed"
    },
    "tags": []
   },
   "source": [
    "## Understanding the CNN Architecture Revolution\n",
    "\n",
    "Convolutional Neural Networks represent a breakthrough in computer vision, fundamentally changing how machines interpret visual information. Unlike traditional fully-connected networks that treat images as flat vectors, CNNs preserve the spatial structure of visual data through specialized operations that mirror the human visual cortex.\n",
    "\n",
    "The genius of CNNs lies in their ability to learn hierarchical feature representations - starting with simple edge detectors in early layers and progressively building up to complex pattern recognizers in deeper layers. This biological inspiration enables remarkably efficient learning with significantly fewer parameters than conventional approaches."
   ]
  },
  {
   "cell_type": "markdown",
   "id": "79fa6117",
   "metadata": {
    "papermill": {
     "duration": 0.003274,
     "end_time": "2025-06-01T06:18:18.294014",
     "exception": false,
     "start_time": "2025-06-01T06:18:18.290740",
     "status": "completed"
    },
    "tags": []
   },
   "source": [
    "<img src = 'https://saturncloud.io/images/blog/a-cnn-sequence-to-classify-handwritten-digits.webp'>"
   ]
  },
  {
   "cell_type": "markdown",
   "id": "961eaffc",
   "metadata": {
    "papermill": {
     "duration": 0.003074,
     "end_time": "2025-06-01T06:18:18.301026",
     "exception": false,
     "start_time": "2025-06-01T06:18:18.297952",
     "status": "completed"
    },
    "tags": []
   },
   "source": [
    "### Essential Building Blocks of CNNs:\n",
    "\n",
    "+ **🔍 Convolutional Layers - The Feature Detectors**:\n",
    "Think of these as specialized scanners that slide small detection windows (kernels) across your image. Each kernel learns to identify specific patterns - horizontal lines, vertical edges, curves, or more complex textures. The magic happens through the convolution operation, which computes how well each patch of the image matches the learned pattern.\n",
    "\n",
    "+ **📉 Pooling Layers - The Dimension Reducers**:\n",
    "These layers act as intelligent summarizers, condensing feature maps while preserving the most important information. Max pooling, for instance, keeps only the strongest activations in each region, making the network more robust to small translations and reducing computational overhead.\n",
    "\n",
    "+ **🔗 Fully Connected Layers - The Decision Makers**:\n",
    "After features are extracted and refined, these traditional neural network layers combine all learned features to make final predictions. They transform the spatial feature representations into class probabilities.\n",
    "\n",
    "+ **🎯 Automatic Feature Learning - The Game Changer**:\n",
    "Perhaps most remarkably, CNNs discover optimal features automatically through backpropagation. No hand-crafted feature engineering required - the network learns what matters for your specific task!"
   ]
  },
  {
   "cell_type": "code",
   "execution_count": 1,
   "id": "5fc5e2ab",
   "metadata": {
    "_cell_guid": "b1076dfc-b9ad-4769-8c92-a6c4dae69d19",
    "_uuid": "8f2839f25d086af736a60e9eeb907d3b93b6e0e5",
    "execution": {
     "iopub.execute_input": "2025-06-01T06:18:18.308577Z",
     "iopub.status.busy": "2025-06-01T06:18:18.308311Z",
     "iopub.status.idle": "2025-06-01T06:18:20.640688Z",
     "shell.execute_reply": "2025-06-01T06:18:20.640084Z"
    },
    "papermill": {
     "duration": 2.337781,
     "end_time": "2025-06-01T06:18:20.642023",
     "exception": false,
     "start_time": "2025-06-01T06:18:18.304242",
     "status": "completed"
    },
    "tags": []
   },
   "outputs": [],
   "source": [
    "# Essential imports for our CNN implementation\n",
    "import pandas as pd\n",
    "import numpy as np\n",
    "import time\n",
    "import matplotlib.pyplot as plt\n",
    "import matplotlib.animation as animation\n",
    "from matplotlib.patches import Rectangle\n",
    "from sklearn.metrics import confusion_matrix, classification_report, ConfusionMatrixDisplay\n",
    "from IPython.display import HTML, display\n",
    "import plotly.graph_objects as go\n",
    "import plotly.express as px\n",
    "from plotly.subplots import make_subplots\n",
    "\n",
    "# Configure plotting\n",
    "plt.style.use('default')\n",
    "%matplotlib inline"
   ]
  },
  {
   "cell_type": "code",
   "execution_count": 2,
   "id": "5df9a2b5",
   "metadata": {
    "execution": {
     "iopub.execute_input": "2025-06-01T06:18:20.652990Z",
     "iopub.status.busy": "2025-06-01T06:18:20.652675Z",
     "iopub.status.idle": "2025-06-01T06:18:22.792067Z",
     "shell.execute_reply": "2025-06-01T06:18:22.791533Z"
    },
    "papermill": {
     "duration": 2.145789,
     "end_time": "2025-06-01T06:18:22.793039",
     "exception": false,
     "start_time": "2025-06-01T06:18:20.647250",
     "status": "completed"
    },
    "tags": []
   },
   "outputs": [
    {
     "data": {
      "text/html": [
       "<div>\n",
       "<style scoped>\n",
       "    .dataframe tbody tr th:only-of-type {\n",
       "        vertical-align: middle;\n",
       "    }\n",
       "\n",
       "    .dataframe tbody tr th {\n",
       "        vertical-align: top;\n",
       "    }\n",
       "\n",
       "    .dataframe thead th {\n",
       "        text-align: right;\n",
       "    }\n",
       "</style>\n",
       "<table border=\"1\" class=\"dataframe\">\n",
       "  <thead>\n",
       "    <tr style=\"text-align: right;\">\n",
       "      <th></th>\n",
       "      <th>label</th>\n",
       "      <th>pixel0</th>\n",
       "      <th>pixel1</th>\n",
       "      <th>pixel2</th>\n",
       "      <th>pixel3</th>\n",
       "      <th>pixel4</th>\n",
       "      <th>pixel5</th>\n",
       "      <th>pixel6</th>\n",
       "      <th>pixel7</th>\n",
       "      <th>pixel8</th>\n",
       "      <th>...</th>\n",
       "      <th>pixel774</th>\n",
       "      <th>pixel775</th>\n",
       "      <th>pixel776</th>\n",
       "      <th>pixel777</th>\n",
       "      <th>pixel778</th>\n",
       "      <th>pixel779</th>\n",
       "      <th>pixel780</th>\n",
       "      <th>pixel781</th>\n",
       "      <th>pixel782</th>\n",
       "      <th>pixel783</th>\n",
       "    </tr>\n",
       "  </thead>\n",
       "  <tbody>\n",
       "    <tr>\n",
       "      <th>0</th>\n",
       "      <td>1</td>\n",
       "      <td>0</td>\n",
       "      <td>0</td>\n",
       "      <td>0</td>\n",
       "      <td>0</td>\n",
       "      <td>0</td>\n",
       "      <td>0</td>\n",
       "      <td>0</td>\n",
       "      <td>0</td>\n",
       "      <td>0</td>\n",
       "      <td>...</td>\n",
       "      <td>0</td>\n",
       "      <td>0</td>\n",
       "      <td>0</td>\n",
       "      <td>0</td>\n",
       "      <td>0</td>\n",
       "      <td>0</td>\n",
       "      <td>0</td>\n",
       "      <td>0</td>\n",
       "      <td>0</td>\n",
       "      <td>0</td>\n",
       "    </tr>\n",
       "    <tr>\n",
       "      <th>1</th>\n",
       "      <td>0</td>\n",
       "      <td>0</td>\n",
       "      <td>0</td>\n",
       "      <td>0</td>\n",
       "      <td>0</td>\n",
       "      <td>0</td>\n",
       "      <td>0</td>\n",
       "      <td>0</td>\n",
       "      <td>0</td>\n",
       "      <td>0</td>\n",
       "      <td>...</td>\n",
       "      <td>0</td>\n",
       "      <td>0</td>\n",
       "      <td>0</td>\n",
       "      <td>0</td>\n",
       "      <td>0</td>\n",
       "      <td>0</td>\n",
       "      <td>0</td>\n",
       "      <td>0</td>\n",
       "      <td>0</td>\n",
       "      <td>0</td>\n",
       "    </tr>\n",
       "    <tr>\n",
       "      <th>2</th>\n",
       "      <td>1</td>\n",
       "      <td>0</td>\n",
       "      <td>0</td>\n",
       "      <td>0</td>\n",
       "      <td>0</td>\n",
       "      <td>0</td>\n",
       "      <td>0</td>\n",
       "      <td>0</td>\n",
       "      <td>0</td>\n",
       "      <td>0</td>\n",
       "      <td>...</td>\n",
       "      <td>0</td>\n",
       "      <td>0</td>\n",
       "      <td>0</td>\n",
       "      <td>0</td>\n",
       "      <td>0</td>\n",
       "      <td>0</td>\n",
       "      <td>0</td>\n",
       "      <td>0</td>\n",
       "      <td>0</td>\n",
       "      <td>0</td>\n",
       "    </tr>\n",
       "    <tr>\n",
       "      <th>3</th>\n",
       "      <td>4</td>\n",
       "      <td>0</td>\n",
       "      <td>0</td>\n",
       "      <td>0</td>\n",
       "      <td>0</td>\n",
       "      <td>0</td>\n",
       "      <td>0</td>\n",
       "      <td>0</td>\n",
       "      <td>0</td>\n",
       "      <td>0</td>\n",
       "      <td>...</td>\n",
       "      <td>0</td>\n",
       "      <td>0</td>\n",
       "      <td>0</td>\n",
       "      <td>0</td>\n",
       "      <td>0</td>\n",
       "      <td>0</td>\n",
       "      <td>0</td>\n",
       "      <td>0</td>\n",
       "      <td>0</td>\n",
       "      <td>0</td>\n",
       "    </tr>\n",
       "    <tr>\n",
       "      <th>4</th>\n",
       "      <td>0</td>\n",
       "      <td>0</td>\n",
       "      <td>0</td>\n",
       "      <td>0</td>\n",
       "      <td>0</td>\n",
       "      <td>0</td>\n",
       "      <td>0</td>\n",
       "      <td>0</td>\n",
       "      <td>0</td>\n",
       "      <td>0</td>\n",
       "      <td>...</td>\n",
       "      <td>0</td>\n",
       "      <td>0</td>\n",
       "      <td>0</td>\n",
       "      <td>0</td>\n",
       "      <td>0</td>\n",
       "      <td>0</td>\n",
       "      <td>0</td>\n",
       "      <td>0</td>\n",
       "      <td>0</td>\n",
       "      <td>0</td>\n",
       "    </tr>\n",
       "  </tbody>\n",
       "</table>\n",
       "<p>5 rows × 785 columns</p>\n",
       "</div>"
      ],
      "text/plain": [
       "   label  pixel0  pixel1  pixel2  pixel3  pixel4  pixel5  pixel6  pixel7  \\\n",
       "0      1       0       0       0       0       0       0       0       0   \n",
       "1      0       0       0       0       0       0       0       0       0   \n",
       "2      1       0       0       0       0       0       0       0       0   \n",
       "3      4       0       0       0       0       0       0       0       0   \n",
       "4      0       0       0       0       0       0       0       0       0   \n",
       "\n",
       "   pixel8  ...  pixel774  pixel775  pixel776  pixel777  pixel778  pixel779  \\\n",
       "0       0  ...         0         0         0         0         0         0   \n",
       "1       0  ...         0         0         0         0         0         0   \n",
       "2       0  ...         0         0         0         0         0         0   \n",
       "3       0  ...         0         0         0         0         0         0   \n",
       "4       0  ...         0         0         0         0         0         0   \n",
       "\n",
       "   pixel780  pixel781  pixel782  pixel783  \n",
       "0         0         0         0         0  \n",
       "1         0         0         0         0  \n",
       "2         0         0         0         0  \n",
       "3         0         0         0         0  \n",
       "4         0         0         0         0  \n",
       "\n",
       "[5 rows x 785 columns]"
      ]
     },
     "execution_count": 2,
     "metadata": {},
     "output_type": "execute_result"
    }
   ],
   "source": [
    "df = pd.read_csv('/kaggle/input/digit-recognizer/train.csv')\n",
    "df.head()"
   ]
  },
  {
   "cell_type": "code",
   "execution_count": 3,
   "id": "3f4712db",
   "metadata": {
    "execution": {
     "iopub.execute_input": "2025-06-01T06:18:22.801151Z",
     "iopub.status.busy": "2025-06-01T06:18:22.800907Z",
     "iopub.status.idle": "2025-06-01T06:18:22.804217Z",
     "shell.execute_reply": "2025-06-01T06:18:22.803753Z"
    },
    "papermill": {
     "duration": 0.008237,
     "end_time": "2025-06-01T06:18:22.805062",
     "exception": false,
     "start_time": "2025-06-01T06:18:22.796825",
     "status": "completed"
    },
    "tags": []
   },
   "outputs": [],
   "source": [
    "def one_hot(y, n_classes):\n",
    "    out = np.zeros((y.shape[0], n_classes))\n",
    "    out[np.arange(y.shape[0]), y] = 1\n",
    "    return out"
   ]
  },
  {
   "cell_type": "code",
   "execution_count": 4,
   "id": "d5943484",
   "metadata": {
    "execution": {
     "iopub.execute_input": "2025-06-01T06:18:22.812450Z",
     "iopub.status.busy": "2025-06-01T06:18:22.812296Z",
     "iopub.status.idle": "2025-06-01T06:18:22.816218Z",
     "shell.execute_reply": "2025-06-01T06:18:22.815752Z"
    },
    "papermill": {
     "duration": 0.008516,
     "end_time": "2025-06-01T06:18:22.816992",
     "exception": false,
     "start_time": "2025-06-01T06:18:22.808476",
     "status": "completed"
    },
    "tags": []
   },
   "outputs": [],
   "source": [
    "def visualize_results(t_l, v_l):\n",
    "    \"\"\"\n",
    "    Enhanced visualization of training progress with animations and insights\n",
    "    \"\"\"\n",
    "    # Create an enhanced static plot\n",
    "    fig, axes = plt.subplots(2, 2, figsize=(15, 10))\n",
    "    fig.suptitle('🚀 CNN Training Analytics Dashboard', fontsize=16, fontweight='bold')\n",
    "\n",
    "    # Training Loss\n",
    "    axes[0,0].plot(t_l, 'b-', linewidth=2, marker='o', markersize=4, alpha=0.8)\n",
    "    axes[0,0].set_title('📉 Training Loss Evolution', fontsize=12, fontweight='bold')\n",
    "    axes[0,0].set_xlabel('Epochs')\n",
    "    axes[0,0].set_ylabel('Loss')\n",
    "    axes[0,0].grid(True, alpha=0.3)\n",
    "    axes[0,0].fill_between(range(len(t_l)), t_l, alpha=0.3, color='blue')\n",
    "    \n",
    "    # Add loss reduction annotation\n",
    "    if len(t_l) > 1:\n",
    "        improvement = ((t_l[0] - t_l[-1]) / t_l[0]) * 100\n",
    "        axes[0,0].annotate(f'Loss reduced by {improvement:.1f}%', \n",
    "                          xy=(len(t_l)-1, t_l[-1]), xytext=(len(t_l)*0.7, t_l[0]*0.8),\n",
    "                          arrowprops=dict(arrowstyle='->', color='red', lw=2),\n",
    "                          bbox=dict(boxstyle=\"round,pad=0.3\", facecolor=\"yellow\", alpha=0.7))\n",
    "\n",
    "    # Validation Accuracy\n",
    "    axes[0,1].plot(v_l, 'g-', linewidth=2, marker='s', markersize=4, alpha=0.8)\n",
    "    axes[0,1].set_title('📈 Validation Accuracy Growth', fontsize=12, fontweight='bold')\n",
    "    axes[0,1].set_xlabel('Epochs')\n",
    "    axes[0,1].set_ylabel('Accuracy')\n",
    "    axes[0,1].grid(True, alpha=0.3)\n",
    "    axes[0,1].fill_between(range(len(v_l)), v_l, alpha=0.3, color='green')\n",
    "    \n",
    "    # Add accuracy milestone annotations\n",
    "    milestones = [0.5, 0.7, 0.8, 0.9]\n",
    "    for milestone in milestones:\n",
    "        if max(v_l) >= milestone:\n",
    "            first_reach = next(i for i, acc in enumerate(v_l) if acc >= milestone)\n",
    "            axes[0,1].axhline(y=milestone, color='red', linestyle='--', alpha=0.5)\n",
    "            axes[0,1].annotate(f'{milestone*100:.0f}% reached at epoch {first_reach+1}', \n",
    "                              xy=(first_reach, milestone), xytext=(first_reach+2, milestone+0.05),\n",
    "                              fontsize=8, alpha=0.8)\n",
    "\n",
    "    # Learning Curve Analysis\n",
    "    axes[1,0].plot(t_l, label='Training Loss', linewidth=2, alpha=0.8)\n",
    "    # Normalize accuracy for comparison\n",
    "    normalized_acc = [1-acc for acc in v_l]  # Convert to \"error\" for comparison\n",
    "    axes[1,0].plot(normalized_acc, label='Validation Error (1-accuracy)', linewidth=2, alpha=0.8)\n",
    "    axes[1,0].set_title('🔍 Learning Curve Analysis', fontsize=12, fontweight='bold')\n",
    "    axes[1,0].set_xlabel('Epochs')\n",
    "    axes[1,0].set_ylabel('Error Rate')\n",
    "    axes[1,0].legend()\n",
    "    axes[1,0].grid(True, alpha=0.3)\n",
    "    \n",
    "    # Training Statistics\n",
    "    axes[1,1].axis('off')\n",
    "    stats_text = f\"\"\"\n",
    "    📊 Training Summary:\n",
    "    \n",
    "    🎯 Final Accuracy: {v_l[-1]*100:.2f}%\n",
    "    📉 Final Loss: {t_l[-1]:.4f}\n",
    "    🚀 Best Accuracy: {max(v_l)*100:.2f}%\n",
    "    📈 Total Improvement: {(v_l[-1]-v_l[0])*100:+.2f}%\n",
    "    🔄 Epochs Completed: {len(t_l)}\n",
    "    \n",
    "    💡 Insights:\n",
    "    • Network converged {'quickly' if len(t_l) < 15 else 'steadily'}\n",
    "    • {'Excellent' if max(v_l) > 0.9 else 'Good' if max(v_l) > 0.8 else 'Moderate'} performance achieved\n",
    "    • {'No overfitting detected' if t_l[-1] < t_l[0]*2 else 'Monitor for overfitting'}\n",
    "    \"\"\"\n",
    "    \n",
    "    axes[1,1].text(0.05, 0.95, stats_text, transform=axes[1,1].transAxes, \n",
    "                   fontsize=10, verticalalignment='top',\n",
    "                   bbox=dict(boxstyle=\"round,pad=0.5\", facecolor=\"lightblue\", alpha=0.8))\n",
    "\n",
    "    plt.tight_layout()\n",
    "    plt.show()\n",
    "    \n",
    "    # Create an interactive Plotly version for additional insights\n",
    "    fig_plotly = make_subplots(rows=1, cols=2, \n",
    "                              subplot_titles=['Training Loss', 'Validation Accuracy'],\n",
    "                              specs=[[{\"secondary_y\": True}, {\"secondary_y\": True}]])\n",
    "    \n",
    "    fig_plotly.add_trace(go.Scatter(x=list(range(len(t_l))), y=t_l, \n",
    "                                   mode='lines+markers', name='Training Loss',\n",
    "                                   line=dict(color='blue', width=3)), row=1, col=1)\n",
    "    \n",
    "    fig_plotly.add_trace(go.Scatter(x=list(range(len(v_l))), y=v_l, \n",
    "                                   mode='lines+markers', name='Validation Accuracy',\n",
    "                                   line=dict(color='green', width=3)), row=1, col=2)\n",
    "    \n",
    "    fig_plotly.update_layout(title_text=\"🚀 Interactive Training Progress\", \n",
    "                            title_x=0.5, height=400)\n",
    "    fig_plotly.show()"
   ]
  },
  {
   "cell_type": "code",
   "execution_count": 5,
   "id": "d623c752",
   "metadata": {
    "execution": {
     "iopub.execute_input": "2025-06-01T06:18:22.824540Z",
     "iopub.status.busy": "2025-06-01T06:18:22.824392Z",
     "iopub.status.idle": "2025-06-01T06:18:22.828638Z",
     "shell.execute_reply": "2025-06-01T06:18:22.828160Z"
    },
    "papermill": {
     "duration": 0.00898,
     "end_time": "2025-06-01T06:18:22.829486",
     "exception": false,
     "start_time": "2025-06-01T06:18:22.820506",
     "status": "completed"
    },
    "tags": []
   },
   "outputs": [],
   "source": [
    "def evaluate(model, x_test, y_test):\n",
    "    predictions = []\n",
    "    for i in range(0, len(x_test), 32):\n",
    "        x_batch = x_test[i:i+32]\n",
    "        pred_batch = model.forward(x_batch)\n",
    "        predictions.extend(np.argmax(pred_batch, axis=1))\n",
    "    \n",
    "    predictions = np.array(predictions)\n",
    "    true_labels = np.argmax(y_test, axis=1) if len(y_test.shape) > 1 else y_test\n",
    "    s = '                      '\n",
    "    print(s, 'CLASSIFICATION REPORT\\n', classification_report(true_labels, predictions), '\\n\\n')\n",
    "    \n",
    "    cm = confusion_matrix(true_labels, predictions)\n",
    "    ConfusionMatrixDisplay(cm).plot(cmap='Blues');\n",
    "    plt.show();"
   ]
  },
  {
   "cell_type": "code",
   "execution_count": 6,
   "id": "b59ddfa0",
   "metadata": {
    "execution": {
     "iopub.execute_input": "2025-06-01T06:18:22.836842Z",
     "iopub.status.busy": "2025-06-01T06:18:22.836668Z",
     "iopub.status.idle": "2025-06-01T06:18:22.840210Z",
     "shell.execute_reply": "2025-06-01T06:18:22.839652Z"
    },
    "papermill": {
     "duration": 0.00816,
     "end_time": "2025-06-01T06:18:22.841043",
     "exception": false,
     "start_time": "2025-06-01T06:18:22.832883",
     "status": "completed"
    },
    "tags": []
   },
   "outputs": [],
   "source": [
    "def plot(idx):\n",
    "    inp, label = x[idx:idx+1], y[idx]\n",
    "    inp = np.array(inp)\n",
    "    inp = model.forward(inp)\n",
    "    pred = np.argmax(inp, axis=1)\n",
    "    img = x[idx].reshape((28, 28))\n",
    "    plt.figure(figsize=(4,4))\n",
    "    plt.title(f'Predicted as : {pred[0]}')\n",
    "    plt.imshow(img)\n",
    "    plt.axis('off')"
   ]
  },
  {
   "cell_type": "code",
   "execution_count": 7,
   "id": "ae47331d",
   "metadata": {
    "execution": {
     "iopub.execute_input": "2025-06-01T06:18:22.848354Z",
     "iopub.status.busy": "2025-06-01T06:18:22.848184Z",
     "iopub.status.idle": "2025-06-01T06:18:22.851493Z",
     "shell.execute_reply": "2025-06-01T06:18:22.851026Z"
    },
    "papermill": {
     "duration": 0.007851,
     "end_time": "2025-06-01T06:18:22.852279",
     "exception": false,
     "start_time": "2025-06-01T06:18:22.844428",
     "status": "completed"
    },
    "tags": []
   },
   "outputs": [],
   "source": [
    "class ReLU:\n",
    "    def __init__(self):\n",
    "        self.inp_cache = None\n",
    "        \n",
    "    def forward(self, x):\n",
    "        self.inp_cache = x\n",
    "        return np.maximum(0, x)\n",
    "        \n",
    "    def backward(self, dout):\n",
    "        return dout*(self.inp_cache>0)"
   ]
  },
  {
   "cell_type": "code",
   "execution_count": 8,
   "id": "d32eb98f",
   "metadata": {
    "execution": {
     "iopub.execute_input": "2025-06-01T06:18:22.860067Z",
     "iopub.status.busy": "2025-06-01T06:18:22.859894Z",
     "iopub.status.idle": "2025-06-01T06:18:22.863200Z",
     "shell.execute_reply": "2025-06-01T06:18:22.862783Z"
    },
    "papermill": {
     "duration": 0.008262,
     "end_time": "2025-06-01T06:18:22.863977",
     "exception": false,
     "start_time": "2025-06-01T06:18:22.855715",
     "status": "completed"
    },
    "tags": []
   },
   "outputs": [],
   "source": [
    "class Softmax:\n",
    "    def __init__(self):\n",
    "        self.out_cache = None\n",
    "        \n",
    "    def forward(self, x):\n",
    "        ex = np.exp(x - np.max(x, axis=1, keepdims=True))\n",
    "        self.out_cache = ex / np.sum(ex, axis=1, keepdims=True)\n",
    "        return self.out_cache\n",
    "        \n",
    "    def backward(self, dout):\n",
    "        return dout"
   ]
  },
  {
   "cell_type": "code",
   "execution_count": 9,
   "id": "10d2fa3d",
   "metadata": {
    "execution": {
     "iopub.execute_input": "2025-06-01T06:18:22.871269Z",
     "iopub.status.busy": "2025-06-01T06:18:22.871104Z",
     "iopub.status.idle": "2025-06-01T06:18:22.874991Z",
     "shell.execute_reply": "2025-06-01T06:18:22.874563Z"
    },
    "papermill": {
     "duration": 0.00846,
     "end_time": "2025-06-01T06:18:22.875818",
     "exception": false,
     "start_time": "2025-06-01T06:18:22.867358",
     "status": "completed"
    },
    "tags": []
   },
   "outputs": [],
   "source": [
    "class Dense:\n",
    "    def __init__(self, in_dim, out_dim):\n",
    "        lim = np.sqrt(6.0/(in_dim+out_dim))\n",
    "        self.W = np.random.uniform(-lim, lim, (in_dim, out_dim))\n",
    "        self.B = np.zeros((1, out_dim))\n",
    "        self.inp_cache = None\n",
    "        self.dW = None\n",
    "        self.dB = None\n",
    "\n",
    "    def forward(self, x):\n",
    "        self.inp_cache = x\n",
    "        out = np.dot(x, self.W)\n",
    "        out += self.B\n",
    "        return out\n",
    "\n",
    "    def backward(self, dout):\n",
    "        self.dW = np.dot(self.inp_cache.T, dout)\n",
    "        self.dB = np.sum(dout, axis=0, keepdims=True)\n",
    "        return np.dot(dout, self.W.T)"
   ]
  },
  {
   "cell_type": "markdown",
   "id": "36c0bc8d",
   "metadata": {
    "papermill": {
     "duration": 0.003154,
     "end_time": "2025-06-01T06:18:22.882307",
     "exception": false,
     "start_time": "2025-06-01T06:18:22.879153",
     "status": "completed"
    },
    "tags": []
   },
   "source": [
    "## The Mathematics of Convolution - Where the Magic Happens\n",
    "\n",
    "Convolution is the fundamental operation that gives CNNs their power. Rather than processing each pixel independently, convolution examines local neighborhoods of pixels, detecting patterns and features through learned filters. This local connectivity mimics how biological visual systems process information - starting with simple edge detection and building up to complex pattern recognition.\n",
    "\n",
    "Let's explore this concept with an interactive visualization that demonstrates how a filter 'slides' across an image, computing feature activations at each position."
   ]
  },
  {
   "cell_type": "markdown",
   "id": "9953b177",
   "metadata": {
    "papermill": {
     "duration": 0.003073,
     "end_time": "2025-06-01T06:18:22.888566",
     "exception": false,
     "start_time": "2025-06-01T06:18:22.885493",
     "status": "completed"
    },
    "tags": []
   },
   "source": [
    "def create_convolution_animation():\n",
    "    \"\"\"\n",
    "    Creates an interactive animation showing how convolution works.\n",
    "    Demonstrates kernel sliding across input to produce feature map.\n",
    "    \"\"\"\n",
    "    # Create a simple input image (5x5) and kernel (3x3)\n",
    "    input_img = np.array([\n",
    "        [1, 1, 1, 0, 0],\n",
    "        [0, 1, 1, 1, 0],\n",
    "        [0, 0, 1, 1, 1],\n",
    "        [0, 0, 1, 1, 0],\n",
    "        [0, 1, 1, 0, 0]\n",
    "    ])\n",
    "    \n",
    "    # Edge detection kernel\n",
    "    kernel = np.array([\n",
    "        [-1, -1, -1],\n",
    "        [-1,  8, -1],\n",
    "        [-1, -1, -1]\n",
    "    ])\n",
    "    \n",
    "    fig, axes = plt.subplots(1, 3, figsize=(15, 5))\n",
    "    \n",
    "    # Animation function\n",
    "    def animate(frame):\n",
    "        for ax in axes:\n",
    "            ax.clear()\n",
    "        \n",
    "        # Calculate kernel position\n",
    "        max_frames = 9  # 3x3 positions for kernel\n",
    "        row = frame // 3\n",
    "        col = frame % 3\n",
    "        \n",
    "        if frame < max_frames:\n",
    "            # Show input with highlighted region\n",
    "            axes[0].imshow(input_img, cmap='Blues', alpha=0.7)\n",
    "            axes[0].add_patch(Rectangle((col-0.5, row-0.5), 3, 3, \n",
    "                                      linewidth=3, edgecolor='red', facecolor='none'))\n",
    "            axes[0].set_title('Input Image\\n(Red box shows kernel position)', fontsize=12)\n",
    "            axes[0].grid(True, alpha=0.3)\n",
    "            \n",
    "            # Show kernel\n",
    "            axes[1].imshow(kernel, cmap='RdBu', vmin=-1, vmax=1)\n",
    "            axes[1].set_title('Convolution Kernel\\n(Edge Detector)', fontsize=12)\n",
    "            for i in range(3):\n",
    "                for j in range(3):\n",
    "                    axes[1].text(j, i, f'{kernel[i,j]}', ha='center', va='center', \n",
    "                               fontweight='bold', fontsize=10)\n",
    "            \n",
    "            # Calculate and show convolution result\n",
    "            if row <= 2 and col <= 2:  # Valid convolution\n",
    "                region = input_img[row:row+3, col:col+3]\n",
    "                result = np.sum(region * kernel)\n",
    "                \n",
    "                # Show feature map\n",
    "                feature_map = np.zeros((3, 3))\n",
    "                feature_map[row, col] = result\n",
    "                \n",
    "                axes[2].imshow(feature_map, cmap='viridis', vmin=-8, vmax=8)\n",
    "                axes[2].set_title(f'Feature Map\\nValue at ({row},{col}): {result:.1f}', fontsize=12)\n",
    "                axes[2].text(col, row, f'{result:.1f}', ha='center', va='center', \n",
    "                           fontweight='bold', color='white', fontsize=12)\n",
    "        \n",
    "        for ax in axes:\n",
    "            ax.set_xticks(range(ax.get_xlim()[1]))\n",
    "            ax.set_yticks(range(ax.get_ylim()[1]))\n",
    "    \n",
    "    # Create animation\n",
    "    anim = animation.FuncAnimation(fig, animate, frames=9, interval=1500, repeat=True)\n",
    "    plt.tight_layout()\n",
    "    return anim\n",
    "\n",
    "# Create and display the animation\n",
    "print(\"🎬 Convolution Operation Animation\")\n",
    "print(\"Watch how the kernel slides across the input to detect edges!\")\n",
    "conv_anim = create_convolution_animation()\n",
    "plt.show()\n",
    "\n",
    "# Also create a static explanation\n",
    "fig, ax = plt.subplots(1, 1, figsize=(10, 6))\n",
    "ax.text(0.5, 0.7, '🔍 How Convolution Works:', ha='center', fontsize=16, fontweight='bold')\n",
    "ax.text(0.5, 0.5, '1. Slide the kernel across the input image\\n2. At each position, multiply kernel values with underlying pixels\\n3. Sum the results to get a single output value\\n4. This creates a feature map highlighting detected patterns', \n",
    "        ha='center', fontsize=12, bbox=dict(boxstyle=\"round,pad=0.5\", facecolor=\"lightblue\"))\n",
    "ax.set_xlim(0, 1)\n",
    "ax.set_ylim(0, 1)\n",
    "ax.axis('off')\n",
    "plt.title('Understanding Convolution', fontsize=18, fontweight='bold')\n",
    "plt.tight_layout()\n",
    "plt.show()"
   ]
  },
  {
   "cell_type": "code",
   "execution_count": 10,
   "id": "f5bd6d1c",
   "metadata": {
    "execution": {
     "iopub.execute_input": "2025-06-01T06:18:22.895733Z",
     "iopub.status.busy": "2025-06-01T06:18:22.895566Z",
     "iopub.status.idle": "2025-06-01T06:18:22.904605Z",
     "shell.execute_reply": "2025-06-01T06:18:22.904172Z"
    },
    "papermill": {
     "duration": 0.013709,
     "end_time": "2025-06-01T06:18:22.905473",
     "exception": false,
     "start_time": "2025-06-01T06:18:22.891764",
     "status": "completed"
    },
    "tags": []
   },
   "outputs": [],
   "source": [
    "class ConvLayer:\n",
    "    def __init__(self, in_channels, out_channels, kernel_size, stride = 1, padding=0):\n",
    "        self.Cin = in_channels\n",
    "        self.Cout = out_channels\n",
    "        self.kernel_size = kernel_size\n",
    "        self.padding = padding\n",
    "        self.stride = stride\n",
    "\n",
    "        f_in = in_channels * kernel_size * kernel_size\n",
    "        f_out = out_channels * kernel_size * kernel_size\n",
    "        limit = np.sqrt(6.0/(f_in + f_out))\n",
    "\n",
    "        w_shape = (self.Cout, self.Cin, kernel_size, kernel_size)\n",
    "        \n",
    "        self.W = np.random.uniform(-limit, limit, w_shape)  # (OC, IC, K, K)\n",
    "        self.B = np.zeros((self.Cout, 1))                   # (OC, 1)\n",
    "\n",
    "        self.inp_cache = None\n",
    "        self.dW = None\n",
    "        self.dB = None\n",
    "\n",
    "\n",
    "    def out_size(self, d):\n",
    "        temp = d + (2*self.padding)\n",
    "        temp = temp - self.kernel_size\n",
    "        temp = temp // self.stride\n",
    "        return temp + 1\n",
    "    \n",
    "    def pad(self, x):\n",
    "        if self.padding == 0:\n",
    "            return x\n",
    "        else:\n",
    "            pad_tuple = ((0,0), (0,0), (self.padding, self.padding), (self.padding,self.padding))\n",
    "            x_pad = np.pad(x, pad_tuple, mode='constant', constant_values = 0)\n",
    "            return x_pad\n",
    "            \n",
    "    def unpad(self, x):\n",
    "        if self.padding == 0:\n",
    "            return x\n",
    "        else:\n",
    "            x_un = x[:, :, self.padding:-self.padding, self.padding:-self.padding]\n",
    "            return x_un\n",
    "    \n",
    "    def forward(self, x):\n",
    "        # Conv Layer\n",
    "        N, C, H, W = x.shape\n",
    "        \n",
    "        xp = self.pad(x)\n",
    "        oh, ow = self.out_size(H), self.out_size(W)\n",
    "        out = np.zeros((N, self.Cout, oh, ow))\n",
    "        self.inp_cache = x\n",
    "\n",
    "        for b in range(N):\n",
    "            for oc in range(self.Cout):\n",
    "                for i in range(oh):\n",
    "                    for j in range(ow):\n",
    "                        h_start = i * self.stride\n",
    "                        w_start = j * self.stride\n",
    "                        h_end = h_start + self.kernel_size\n",
    "                        w_end = w_start + self.kernel_size\n",
    "                        region = xp[b, :, h_start:h_end, w_start:w_end]  #  (N, IC, K, K)\n",
    "                        out[b, oc, i, j] = np.sum(region * self.W[oc]) + self.B[oc].item()   # (N, 1, 1, 1)\n",
    "        return out\n",
    "\n",
    "    def backward(self, dout):\n",
    "        X = self.inp_cache\n",
    "        N, C, H, W = X.shape\n",
    "        xp = self.pad(X)\n",
    "\n",
    "        _, _, oh, ow = dout.shape\n",
    "\n",
    "        self.dW = np.zeros_like(self.W)\n",
    "        self.dB = np.zeros_like(self.B)\n",
    "        dxp = np.zeros_like(xp)\n",
    "\n",
    "        for b in range(N):\n",
    "            for oc in range(self.Cout):\n",
    "                for i in range(oh):\n",
    "                    for j in range(ow):\n",
    "                        h_start = i * self.stride\n",
    "                        w_start = j * self.stride\n",
    "                        h_end = h_start + self.kernel_size\n",
    "                        w_end = w_start + self.kernel_size\n",
    "\n",
    "                        # gradiesnt wrt tp weigths self.W\n",
    "                        region = xp[b, :, h_start:h_end, w_start:w_end]  #  (N, IC, K, K)\n",
    "                        self.dW[oc] += dout[b, oc, i, j] * region\n",
    "\n",
    "                        # gradiesnt wrt to bias term self.B\n",
    "                        self.dB[oc] += dout[b, oc, i, j]\n",
    "                        \n",
    "                        # gradiesnt wrt. to padded x i.e., xp\n",
    "                        dxp[b, :, h_start:h_end, w_start:w_end] = dout[b, oc, i, j] * self.W[oc]\n",
    "\n",
    "        dx = self.unpad(dxp)\n",
    "        return dx"
   ]
  },
  {
   "cell_type": "code",
   "execution_count": 11,
   "id": "149d0ecd",
   "metadata": {
    "execution": {
     "iopub.execute_input": "2025-06-01T06:18:22.913061Z",
     "iopub.status.busy": "2025-06-01T06:18:22.912895Z",
     "iopub.status.idle": "2025-06-01T06:18:22.919263Z",
     "shell.execute_reply": "2025-06-01T06:18:22.918623Z"
    },
    "papermill": {
     "duration": 0.011226,
     "end_time": "2025-06-01T06:18:22.920221",
     "exception": false,
     "start_time": "2025-06-01T06:18:22.908995",
     "status": "completed"
    },
    "tags": []
   },
   "outputs": [],
   "source": [
    "class MaxPool:\n",
    "    def __init__(self, kernel_size=2, stride=2):\n",
    "        self.ks = kernel_size\n",
    "        self.stride = stride\n",
    "        self.inp_cache = None\n",
    "        self.mask = None\n",
    "\n",
    "    def forward(self, x):\n",
    "        # Pooling Layer\n",
    "        N, C, H, W = x.shape\n",
    "        self.inp_cache = x\n",
    "        \n",
    "        oh = (H - self.ks) // self.stride + 1\n",
    "        ow = (W - self.ks) // self.stride + 1\n",
    "        \n",
    "        out = np.zeros((N, C, oh, ow))\n",
    "        self.mask = np.zeros_like(x)\n",
    "        \n",
    "        for b in range(N):\n",
    "            for c in range(C):\n",
    "                for i in range(oh):\n",
    "                    for j in range(ow):\n",
    "                        h_start = i * self.stride\n",
    "                        w_start = j * self.stride\n",
    "                        h_end = h_start + self.ks\n",
    "                        w_end = w_start + self.ks\n",
    "                        region = x[b, c, h_start:h_end, w_start:w_end]\n",
    "                        val = np.max(region)\n",
    "                        out[b, c, i, j] = val\n",
    "                        masking = (region == val)\n",
    "                        self.mask[b, c, h_start:h_end, w_start:w_end] = masking\n",
    "        return out\n",
    "\n",
    "    def backward(self, dout):\n",
    "        # Pooling Layer\n",
    "        N, C, H, W = self.inp_cache.shape\n",
    "        dx = np.zeros_like(self.inp_cache)\n",
    "\n",
    "        _, _, oh, ow = dout.shape\n",
    "        \n",
    "        for b in range(N):\n",
    "            for c in range(C):\n",
    "                for i in range(oh):\n",
    "                    for j in range(ow):\n",
    "                        h_start = i * self.stride\n",
    "                        w_start = j * self.stride\n",
    "                        h_end = h_start + self.ks\n",
    "                        w_end = w_start + self.ks\n",
    "                        dx[b, c, h_start:h_end, w_start:w_end] += dout[b,c,i,j] * self.mask[b, c, h_start:h_end, w_start:w_end]\n",
    "        return dx"
   ]
  },
  {
   "cell_type": "code",
   "execution_count": 12,
   "id": "bab8c51a",
   "metadata": {
    "execution": {
     "iopub.execute_input": "2025-06-01T06:18:22.928180Z",
     "iopub.status.busy": "2025-06-01T06:18:22.927955Z",
     "iopub.status.idle": "2025-06-01T06:18:22.931620Z",
     "shell.execute_reply": "2025-06-01T06:18:22.931039Z"
    },
    "papermill": {
     "duration": 0.00876,
     "end_time": "2025-06-01T06:18:22.932523",
     "exception": false,
     "start_time": "2025-06-01T06:18:22.923763",
     "status": "completed"
    },
    "tags": []
   },
   "outputs": [],
   "source": [
    "class Flatten:\n",
    "    def __init__(self):\n",
    "        self.shape = None\n",
    "\n",
    "    def forward(self, x):\n",
    "        self.shape = x.shape\n",
    "        x = x.reshape(x.shape[0], -1)\n",
    "        return x\n",
    "\n",
    "    def backward(self, dout):\n",
    "        return dout.reshape(self.shape)"
   ]
  },
  {
   "cell_type": "code",
   "execution_count": 13,
   "id": "f0dd4ac6",
   "metadata": {
    "execution": {
     "iopub.execute_input": "2025-06-01T06:18:22.940346Z",
     "iopub.status.busy": "2025-06-01T06:18:22.940116Z",
     "iopub.status.idle": "2025-06-01T06:18:22.943555Z",
     "shell.execute_reply": "2025-06-01T06:18:22.943001Z"
    },
    "papermill": {
     "duration": 0.008276,
     "end_time": "2025-06-01T06:18:22.944421",
     "exception": false,
     "start_time": "2025-06-01T06:18:22.936145",
     "status": "completed"
    },
    "tags": []
   },
   "outputs": [],
   "source": [
    "def CrossEntropyLoss(pred, tar):\n",
    "    N = pred.shape[0]\n",
    "    pred = np.clip(pred, 1e-15, 1 - 1e-15)   # to prevent log(0)\n",
    "    loss = -np.sum(tar * np.log(pred)) / N\n",
    "    grad = (pred-tar) / N\n",
    "    return loss, grad"
   ]
  },
  {
   "cell_type": "code",
   "execution_count": 14,
   "id": "7b061aa7",
   "metadata": {
    "execution": {
     "iopub.execute_input": "2025-06-01T06:18:22.952315Z",
     "iopub.status.busy": "2025-06-01T06:18:22.952093Z",
     "iopub.status.idle": "2025-06-01T06:18:22.957734Z",
     "shell.execute_reply": "2025-06-01T06:18:22.957175Z"
    },
    "papermill": {
     "duration": 0.010786,
     "end_time": "2025-06-01T06:18:22.958743",
     "exception": false,
     "start_time": "2025-06-01T06:18:22.947957",
     "status": "completed"
    },
    "tags": []
   },
   "outputs": [],
   "source": [
    "class CNN:\n",
    "    def __init__(self):\n",
    "        self.layers = []\n",
    "        \n",
    "        self.layers.append(ConvLayer(in_channels=1, out_channels=4, kernel_size=3, padding=1))  # (1, 28, 28) -> (4, 28, 28)\n",
    "        self.layers.append(ReLU())\n",
    "        self.layers.append(MaxPool(kernel_size=2, stride=2))\n",
    "        \n",
    "        self.layers.append(ConvLayer(in_channels=4, out_channels=8, kernel_size=3, padding=1))  # (4, 14, 14) -> (8, 14, 14)\n",
    "        self.layers.append(ReLU())\n",
    "        self.layers.append(MaxPool(kernel_size=2, stride=2))\n",
    "\n",
    "        self.layers.append(Flatten())\n",
    "        self.layers.append(Dense(in_dim=392, out_dim=64))\n",
    "        self.layers.append(ReLU())\n",
    "        self.layers.append(Dense(in_dim=64, out_dim=10))\n",
    "        self.layers.append(Softmax())\n",
    "\n",
    "    def forward(self, x):\n",
    "        for i, layer in enumerate(self.layers):\n",
    "            x = layer.forward(x)\n",
    "        return x\n",
    "\n",
    "    def backward(self, dout):\n",
    "        for layer in reversed(self.layers):\n",
    "            dout = layer.backward(dout)\n",
    "\n",
    "    def step(self, lr=0.001):\n",
    "        for layer in self.layers:\n",
    "            if hasattr(layer, 'W'):\n",
    "                layer.W -= lr * layer.dW\n",
    "                layer.B -= lr * layer.dB"
   ]
  },
  {
   "cell_type": "code",
   "execution_count": 15,
   "id": "59fe4f8d",
   "metadata": {
    "execution": {
     "iopub.execute_input": "2025-06-01T06:18:22.966520Z",
     "iopub.status.busy": "2025-06-01T06:18:22.966321Z",
     "iopub.status.idle": "2025-06-01T06:18:22.976148Z",
     "shell.execute_reply": "2025-06-01T06:18:22.975501Z"
    },
    "papermill": {
     "duration": 0.014776,
     "end_time": "2025-06-01T06:18:22.977094",
     "exception": false,
     "start_time": "2025-06-01T06:18:22.962318",
     "status": "completed"
    },
    "tags": []
   },
   "outputs": [],
   "source": [
    "def train(model, x, y, lr, epochs=10, batch_size=32, split=0.1):\n",
    "    size = len(y)\n",
    "    split_size = int(size*(1-split))\n",
    "    val_size = size - split_size\n",
    "    x_train, y_train = x[:split_size], y[:split_size]\n",
    "    x_val, y_val = x[split_size:], y[split_size:]\n",
    "\n",
    "    interval = max(1, epochs//10)\n",
    "\n",
    "    n_train_batches = (split_size + batch_size - 1) // batch_size \n",
    "    n_val_batches = (val_size + batch_size - 1) // batch_size\n",
    "\n",
    "    progress_points = []\n",
    "    for i in range(1, 11):  # 10 progress points (10%, 20%, ..., 100%)\n",
    "        batch_idx = (i * split_size) // 10\n",
    "        progress_points.append(batch_idx)\n",
    "        \n",
    "    \n",
    "\n",
    "    print(\"\\nTRAINING CONFIGURATION\\n\")\n",
    "\n",
    "    print(f\"Training samples: {split_size:,} ({(1-split)*100:.1f}%)\")\n",
    "    print(f\"Validation samples: {val_size:,} ({split*100:.1f}%)\")\n",
    "    print(f\"Batch size: {batch_size}\")\n",
    "    print(f\"Learning rate: {lr}\\n\\n\")\n",
    "\n",
    "    print('..Training Started..')\n",
    "\n",
    "    best_val_acc = 0.0\n",
    "    h_loss, h_acc = [], []\n",
    "    for epoch in range(1, epochs+1):\n",
    "        progress_points = []\n",
    "        progress_idx = 0\n",
    "        for i in range(1, 11):  # 10 progress points (10%, 20%, ..., 100%)\n",
    "            batch_idx = (i * split_size) // 10\n",
    "            progress_points.append(batch_idx)\n",
    "        if epoch%interval==0:\n",
    "            print(f'Epoch: {epoch}/{epochs} [', end='')\n",
    "        start = time.time()\n",
    "        running_loss = 0.0\n",
    "        correct = 0.0\n",
    "        idx = np.random.permutation(len(y_train))\n",
    "        inp = x_train[idx]\n",
    "        label = y_train[idx]\n",
    "\n",
    "        for i in range(0, split_size, batch_size):\n",
    "            if epoch%interval==0 and progress_idx < len(progress_points) and i >= progress_points[progress_idx]:\n",
    "                print('█', end='', flush=True)\n",
    "                progress_idx += 1\n",
    "            x_batch = inp[i : i+batch_size]\n",
    "            y_batch = label[i : i+batch_size]\n",
    "\n",
    "            pred = model.forward(x_batch)\n",
    "            loss, grad = CrossEntropyLoss(pred, y_batch)\n",
    "            running_loss += loss\n",
    "\n",
    "            model.backward(grad)\n",
    "            model.step(lr)\n",
    "\n",
    "        \n",
    "        val_correct = 0\n",
    "        val_total = 0\n",
    "        for i in range(0, size-split_size, batch_size):\n",
    "            x_batch = x_val[i : i+batch_size]\n",
    "            y_batch = y_val[i : i+batch_size]\n",
    "\n",
    "            pred = model.forward(x_batch)\n",
    "            pred = np.argmax(pred,axis=1)\n",
    "            true = np.argmax(y_batch, axis=1)\n",
    "            val_correct += np.sum(pred == true)\n",
    "            val_total += len(y_batch)\n",
    "            \n",
    "        while progress_idx < 10 and epoch%interval==0:\n",
    "            print('█', end='', flush=True)\n",
    "            progress_idx += 1\n",
    "            \n",
    "        end = time.time()\n",
    "        avg_loss = running_loss / n_train_batches  # Average loss per batch\n",
    "        val_accuracy = val_correct / val_total  # Accuracy as fraction of correct predictions\n",
    "\n",
    "        if val_accuracy > best_val_acc:\n",
    "            best_val_acc = val_accuracy\n",
    "        \n",
    "        h_loss.append(avg_loss)\n",
    "        h_acc.append(val_accuracy)\n",
    "        if epoch%interval == 0:\n",
    "            print(f']   Loss: {h_loss[-1]:.4f},   Validation Accuracy: {h_acc[-1]:.4f},   Time Elapsed: {end - start:.2f}s')\n",
    "\n",
    "    print()\n",
    "    print(\"TRAINING COMPLETED!\\n\\n\")\n",
    "    print(f\"Final training loss: {h_loss[-1]:.4f}\")\n",
    "    print(f\"Final validation accuracy: {h_acc[-1]:.4f}\")\n",
    "    print(f\"Best validation accuracy: {best_val_acc:.4f}\")\n",
    "    print(f\"Total epochs completed: {epochs}\")\n",
    "    return model, h_loss, h_acc"
   ]
  },
  {
   "cell_type": "markdown",
   "id": "61ced139",
   "metadata": {
    "papermill": {
     "duration": 0.003257,
     "end_time": "2025-06-01T06:18:22.984101",
     "exception": false,
     "start_time": "2025-06-01T06:18:22.980844",
     "status": "completed"
    },
    "tags": []
   },
   "source": [
    "## Training Our CNN - Bringing the Network to Life\n",
    "\n",
    "Now comes the exciting part - training our network! We'll watch our CNN learn to recognize handwritten digits through the iterative process of forward propagation, loss calculation, and backpropagation. \n",
    "\n",
    "**Training Strategy:**\n",
    "- 📊 **Dataset Size**: Using 3,000 samples for computational efficiency\n",
    "- 🎯 **Learning Rate**: 0.001 (conservative to ensure stable learning)\n",
    "- 🔄 **Epochs**: 25 iterations through the dataset\n",
    "- 📈 **Monitoring**: Real-time tracking of loss and accuracy\n",
    "\n",
    "The training process will show us how the network gradually improves its predictions, transitioning from random guesses to accurate digit classification."
   ]
  },
  {
   "cell_type": "markdown",
   "id": "19a83adc",
   "metadata": {
    "papermill": {
     "duration": 0.003142,
     "end_time": "2025-06-01T06:18:22.990527",
     "exception": false,
     "start_time": "2025-06-01T06:18:22.987385",
     "status": "completed"
    },
    "tags": []
   },
   "source": [
    "<img src='https://ars.els-cdn.com/content/image/1-s2.0-S0893608015001896-gr2.jpg'>"
   ]
  },
  {
   "cell_type": "code",
   "execution_count": 16,
   "id": "e68a308f",
   "metadata": {
    "execution": {
     "iopub.execute_input": "2025-06-01T06:18:22.998093Z",
     "iopub.status.busy": "2025-06-01T06:18:22.997834Z",
     "iopub.status.idle": "2025-06-01T07:44:29.004161Z",
     "shell.execute_reply": "2025-06-01T07:44:29.003542Z"
    },
    "papermill": {
     "duration": 5166.011465,
     "end_time": "2025-06-01T07:44:29.005214",
     "exception": false,
     "start_time": "2025-06-01T06:18:22.993749",
     "status": "completed"
    },
    "tags": []
   },
   "outputs": [
    {
     "name": "stdout",
     "output_type": "stream",
     "text": [
      "\n",
      "TRAINING CONFIGURATION\n",
      "\n",
      "Training samples: 2,700 (90.0%)\n",
      "Validation samples: 300 (10.0%)\n",
      "Batch size: 32\n",
      "Learning rate: 0.001\n",
      "\n",
      "\n",
      "..Training Started..\n",
      "Epoch: 2/25 [██████████]   Loss: 1.4588,   Validation Accuracy: 0.6100,   Time Elapsed: 206.40s\n",
      "Epoch: 4/25 [██████████]   Loss: 0.8558,   Validation Accuracy: 0.6800,   Time Elapsed: 206.81s\n",
      "Epoch: 6/25 [██████████]   Loss: 0.6245,   Validation Accuracy: 0.7900,   Time Elapsed: 206.43s\n",
      "Epoch: 8/25 [██████████]   Loss: 0.5014,   Validation Accuracy: 0.8033,   Time Elapsed: 206.48s\n",
      "Epoch: 10/25 [██████████]   Loss: 0.4127,   Validation Accuracy: 0.8267,   Time Elapsed: 206.61s\n",
      "Epoch: 12/25 [██████████]   Loss: 0.3510,   Validation Accuracy: 0.8400,   Time Elapsed: 206.41s\n",
      "Epoch: 14/25 [██████████]   Loss: 0.3026,   Validation Accuracy: 0.8400,   Time Elapsed: 206.71s\n",
      "Epoch: 16/25 [██████████]   Loss: 0.2673,   Validation Accuracy: 0.8533,   Time Elapsed: 206.20s\n",
      "Epoch: 18/25 [██████████]   Loss: 0.2333,   Validation Accuracy: 0.8600,   Time Elapsed: 206.83s\n",
      "Epoch: 20/25 [██████████]   Loss: 0.2049,   Validation Accuracy: 0.8667,   Time Elapsed: 206.68s\n",
      "Epoch: 22/25 [██████████]   Loss: 0.1868,   Validation Accuracy: 0.8667,   Time Elapsed: 206.81s\n",
      "Epoch: 24/25 [██████████]   Loss: 0.1680,   Validation Accuracy: 0.8733,   Time Elapsed: 206.59s\n",
      "\n",
      "TRAINING COMPLETED!\n",
      "\n",
      "\n",
      "Final training loss: 0.1586\n",
      "Final validation accuracy: 0.8467\n",
      "Best validation accuracy: 0.8767\n",
      "Total epochs completed: 25\n"
     ]
    },
    {
     "data": {
      "image/png": "[encoded data removed]",
      "text/plain": [
       "<Figure size 1200x400 with 2 Axes>"
      ]
     },
     "metadata": {},
     "output_type": "display_data"
    }
   ],
   "source": [
    "x = df.iloc[:4500, 1:]\n",
    "y = df.iloc[:4500, 0]\n",
    "x = x.values.reshape(-1, 1, 28, 28)\n",
    "y = one_hot(y, 10)\n",
    "\n",
    "x.shape, y.shape\n",
    "model = CNN()\n",
    "model, tl, va = train(model, x[:3000], y[:3000], lr = 0.001, epochs=25)\n",
    "visualize_results(tl, va)"
   ]
  },
  {
   "cell_type": "markdown",
   "id": "734a403d",
   "metadata": {
    "papermill": {
     "duration": 0.008165,
     "end_time": "2025-06-01T07:44:29.022523",
     "exception": false,
     "start_time": "2025-06-01T07:44:29.014358",
     "status": "completed"
    },
    "tags": []
   },
   "source": [
    "<hr>"
   ]
  },
  {
   "cell_type": "markdown",
   "id": "75e145f9",
   "metadata": {
    "papermill": {
     "duration": 0.008407,
     "end_time": "2025-06-01T07:44:29.039188",
     "exception": false,
     "start_time": "2025-06-01T07:44:29.030781",
     "status": "completed"
    },
    "tags": []
   },
   "source": [
    "## Evaluation\n",
    "using 1000 unseen datapoints"
   ]
  },
  {
   "cell_type": "code",
   "execution_count": 17,
   "id": "06f6e11d",
   "metadata": {
    "execution": {
     "iopub.execute_input": "2025-06-01T07:44:29.056749Z",
     "iopub.status.busy": "2025-06-01T07:44:29.056522Z",
     "iopub.status.idle": "2025-06-01T07:45:00.700490Z",
     "shell.execute_reply": "2025-06-01T07:45:00.699857Z"
    },
    "papermill": {
     "duration": 31.653989,
     "end_time": "2025-06-01T07:45:00.701445",
     "exception": false,
     "start_time": "2025-06-01T07:44:29.047456",
     "status": "completed"
    },
    "tags": []
   },
   "outputs": [
    {
     "name": "stdout",
     "output_type": "stream",
     "text": [
      "                       CLASSIFICATION REPORT\n",
      "               precision    recall  f1-score   support\n",
      "\n",
      "           0       0.93      0.94      0.94       101\n",
      "           1       0.94      0.97      0.96       104\n",
      "           2       0.80      0.89      0.84       103\n",
      "           3       0.80      0.85      0.83       100\n",
      "           4       0.93      0.88      0.91        94\n",
      "           5       0.75      0.92      0.83        91\n",
      "           6       0.88      0.82      0.85       106\n",
      "           7       0.91      0.86      0.88       107\n",
      "           8       0.89      0.75      0.81       103\n",
      "           9       0.88      0.79      0.83        91\n",
      "\n",
      "    accuracy                           0.87      1000\n",
      "   macro avg       0.87      0.87      0.87      1000\n",
      "weighted avg       0.87      0.87      0.87      1000\n",
      " \n",
      "\n",
      "\n"
     ]
    },
    {
     "data": {
      "image/png": "[encoded data removed]",
      "text/plain": [
       "<Figure size 640x480 with 2 Axes>"
      ]
     },
     "metadata": {},
     "output_type": "display_data"
    }
   ],
   "source": [
    " evaluate(model, x[3000:4000], y[3000:4000])"
   ]
  },
  {
   "cell_type": "code",
   "execution_count": 18,
   "id": "93ac5ae8",
   "metadata": {
    "execution": {
     "iopub.execute_input": "2025-06-01T07:45:00.720553Z",
     "iopub.status.busy": "2025-06-01T07:45:00.720337Z",
     "iopub.status.idle": "2025-06-01T07:45:01.879189Z",
     "shell.execute_reply": "2025-06-01T07:45:01.878608Z"
    },
    "papermill": {
     "duration": 1.169378,
     "end_time": "2025-06-01T07:45:01.880275",
     "exception": false,
     "start_time": "2025-06-01T07:45:00.710897",
     "status": "completed"
    },
    "tags": []
   },
   "outputs": [
    {
     "data": {
      "image/png": "[encoded data removed]",
      "text/plain": [
       "<Figure size 400x400 with 1 Axes>"
      ]
     },
     "metadata": {},
     "output_type": "display_data"
    },
    {
     "data": {
      "image/png": "[encoded data removed]",
      "text/plain": [
       "<Figure size 400x400 with 1 Axes>"
      ]
     },
     "metadata": {},
     "output_type": "display_data"
    },
    {
     "data": {
      "image/png": "[encoded data removed]",
      "text/plain": [
       "<Figure size 400x400 with 1 Axes>"
      ]
     },
     "metadata": {},
     "output_type": "display_data"
    },
    {
     "data": {
      "image/png": "[encoded data removed]",
      "text/plain": [
       "<Figure size 400x400 with 1 Axes>"
      ]
     },
     "metadata": {},
     "output_type": "display_data"
    },
    {
     "data": {
      "image/png": "[encoded data removed]",
      "text/plain": [
       "<Figure size 400x400 with 1 Axes>"
      ]
     },
     "metadata": {},
     "output_type": "display_data"
    },
    {
     "data": {
      "image/png": "[encoded data removed]",
      "text/plain": [
       "<Figure size 400x400 with 1 Axes>"
      ]
     },
     "metadata": {},
     "output_type": "display_data"
    },
    {
     "data": {
      "image/png": "[encoded data removed]",
      "text/plain": [
       "<Figure size 400x400 with 1 Axes>"
      ]
     },
     "metadata": {},
     "output_type": "display_data"
    },
    {
     "data": {
      "image/png": "[encoded data removed]",
      "text/plain": [
       "<Figure size 400x400 with 1 Axes>"
      ]
     },
     "metadata": {},
     "output_type": "display_data"
    },
    {
     "data": {
      "image/png": "[encoded data removed]",
      "text/plain": [
       "<Figure size 400x400 with 1 Axes>"
      ]
     },
     "metadata": {},
     "output_type": "display_data"
    },
    {
     "data": {
      "image/png": "[encoded data removed]",
      "text/plain": [
       "<Figure size 400x400 with 1 Axes>"
      ]
     },
     "metadata": {},
     "output_type": "display_data"
    },
    {
     "data": {
      "image/png": "[encoded data removed]",
      "text/plain": [
       "<Figure size 400x400 with 1 Axes>"
      ]
     },
     "metadata": {},
     "output_type": "display_data"
    },
    {
     "data": {
      "image/png": "[encoded data removed]",
      "text/plain": [
       "<Figure size 400x400 with 1 Axes>"
      ]
     },
     "metadata": {},
     "output_type": "display_data"
    },
    {
     "data": {
      "image/png": "[encoded data removed]",
      "text/plain": [
       "<Figure size 400x400 with 1 Axes>"
      ]
     },
     "metadata": {},
     "output_type": "display_data"
    }
   ],
   "source": [
    "for i in range(4000, 4500, 40):\n",
    "    plot(i)"
   ]
  }
 ],
 "metadata": {
  "kaggle": {
   "accelerator": "none",
   "dataSources": [
    {
     "databundleVersionId": 861823,
     "sourceId": 3004,
     "sourceType": "competition"
    }
   ],
   "dockerImageVersionId": 31040,
   "isGpuEnabled": false,
   "isInternetEnabled": true,
   "language": "python",
   "sourceType": "notebook"
  },
  "kernelspec": {
   "display_name": "Python 3",
   "language": "python",
   "name": "python3"
  },
  "language_info": {
   "codemirror_mode": {
    "name": "ipython",
    "version": 3
   },
   "file_extension": ".py",
   "mimetype": "text/x-python",
   "name": "python",
   "nbconvert_exporter": "python",
   "pygments_lexer": "ipython3",
   "version": "3.11.11"
  },
  "papermill": {
   "default_parameters": {},
   "duration": 5207.519644,
   "end_time": "2025-06-01T07:45:02.412975",
   "environment_variables": {},
   "exception": null,
   "input_path": "__notebook__.ipynb",
   "output_path": "__notebook__.ipynb",
   "parameters": {},
   "start_time": "2025-06-01T06:18:14.893331",
   "version": "2.6.0"
  }
 },
 "nbformat": 4,
 "nbformat_minor": 5
}
